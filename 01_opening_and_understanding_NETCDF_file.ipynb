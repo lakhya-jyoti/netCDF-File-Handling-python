{
  "nbformat": 4,
  "nbformat_minor": 0,
  "metadata": {
    "colab": {
      "provenance": []
    },
    "kernelspec": {
      "name": "python3",
      "display_name": "Python 3"
    },
    "language_info": {
      "name": "python"
    }
  },
  "cells": [
    {
      "cell_type": "markdown",
      "source": [
        "# **Opening and Understanding NETCDF file**"
      ],
      "metadata": {
        "id": "xHK5rXTleBd1"
      }
    },
    {
      "cell_type": "markdown",
      "source": [
        "Installing Libraries"
      ],
      "metadata": {
        "id": "rMT19mLDd6xb"
      }
    },
    {
      "cell_type": "code",
      "execution_count": 1,
      "metadata": {
        "colab": {
          "base_uri": "https://localhost:8080/"
        },
        "id": "jMcTj7QXbgfH",
        "outputId": "e3755ed1-c3be-4bf4-f777-5d44678f6d4b"
      },
      "outputs": [
        {
          "output_type": "stream",
          "name": "stdout",
          "text": [
            "Requirement already satisfied: xarray in /usr/local/lib/python3.10/dist-packages (2024.10.0)\n",
            "Requirement already satisfied: numpy>=1.24 in /usr/local/lib/python3.10/dist-packages (from xarray) (1.26.4)\n",
            "Requirement already satisfied: packaging>=23.1 in /usr/local/lib/python3.10/dist-packages (from xarray) (24.2)\n",
            "Requirement already satisfied: pandas>=2.1 in /usr/local/lib/python3.10/dist-packages (from xarray) (2.2.2)\n",
            "Requirement already satisfied: python-dateutil>=2.8.2 in /usr/local/lib/python3.10/dist-packages (from pandas>=2.1->xarray) (2.8.2)\n",
            "Requirement already satisfied: pytz>=2020.1 in /usr/local/lib/python3.10/dist-packages (from pandas>=2.1->xarray) (2024.2)\n",
            "Requirement already satisfied: tzdata>=2022.7 in /usr/local/lib/python3.10/dist-packages (from pandas>=2.1->xarray) (2024.2)\n",
            "Requirement already satisfied: six>=1.5 in /usr/local/lib/python3.10/dist-packages (from python-dateutil>=2.8.2->pandas>=2.1->xarray) (1.16.0)\n"
          ]
        }
      ],
      "source": [
        "!pip install xarray"
      ]
    },
    {
      "cell_type": "code",
      "source": [
        "!pip install netcdf4"
      ],
      "metadata": {
        "colab": {
          "base_uri": "https://localhost:8080/"
        },
        "id": "1bpKYcsuQGIW",
        "outputId": "f6344956-b1da-4ecb-bd46-75f53dc0b83c"
      },
      "execution_count": 2,
      "outputs": [
        {
          "output_type": "stream",
          "name": "stdout",
          "text": [
            "Collecting netcdf4\n",
            "  Downloading netCDF4-1.7.2-cp310-cp310-manylinux_2_17_x86_64.manylinux2014_x86_64.whl.metadata (1.8 kB)\n",
            "Collecting cftime (from netcdf4)\n",
            "  Downloading cftime-1.6.4.post1-cp310-cp310-manylinux_2_17_x86_64.manylinux2014_x86_64.whl.metadata (8.7 kB)\n",
            "Requirement already satisfied: certifi in /usr/local/lib/python3.10/dist-packages (from netcdf4) (2024.8.30)\n",
            "Requirement already satisfied: numpy in /usr/local/lib/python3.10/dist-packages (from netcdf4) (1.26.4)\n",
            "Downloading netCDF4-1.7.2-cp310-cp310-manylinux_2_17_x86_64.manylinux2014_x86_64.whl (9.1 MB)\n",
            "\u001b[2K   \u001b[90m━━━━━━━━━━━━━━━━━━━━━━━━━━━━━━━━━━━━━━━━\u001b[0m \u001b[32m9.1/9.1 MB\u001b[0m \u001b[31m35.6 MB/s\u001b[0m eta \u001b[36m0:00:00\u001b[0m\n",
            "\u001b[?25hDownloading cftime-1.6.4.post1-cp310-cp310-manylinux_2_17_x86_64.manylinux2014_x86_64.whl (1.3 MB)\n",
            "\u001b[2K   \u001b[90m━━━━━━━━━━━━━━━━━━━━━━━━━━━━━━━━━━━━━━━━\u001b[0m \u001b[32m1.3/1.3 MB\u001b[0m \u001b[31m37.0 MB/s\u001b[0m eta \u001b[36m0:00:00\u001b[0m\n",
            "\u001b[?25hInstalling collected packages: cftime, netcdf4\n",
            "Successfully installed cftime-1.6.4.post1 netcdf4-1.7.2\n"
          ]
        }
      ]
    },
    {
      "cell_type": "code",
      "source": [
        "import xarray as xr"
      ],
      "metadata": {
        "id": "V8Bvwj4ZQOCm"
      },
      "execution_count": 3,
      "outputs": []
    },
    {
      "cell_type": "code",
      "source": [
        "netcdf_file = 'https://opendap1.nodc.no/opendap/physics/point/cruise/nansen_legacy-single_profile/NMDC_Nansen-Legacy_PR_CT_58US_2021708/CTD_station_P1_NLEG01-1_-_Nansen_Legacy_Cruise_-_2021_Joint_Cruise_2-1.nc'\n",
        "xrds = xr.open_dataset(netcdf_file)\n",
        "xrds"
      ],
      "metadata": {
        "colab": {
          "base_uri": "https://localhost:8080/",
          "height": 1000
        },
        "id": "zd44LEjHQWJG",
        "outputId": "9ff5d688-7b3e-424c-cee9-1aafee34d7f4"
      },
      "execution_count": 4,
      "outputs": [
        {
          "output_type": "execute_result",
          "data": {
            "text/plain": [
              "<xarray.Dataset> Size: 44kB\n",
              "Dimensions:        (PRES: 320)\n",
              "Coordinates:\n",
              "  * PRES           (PRES) float32 1kB 1.0 2.0 3.0 4.0 ... 318.0 319.0 320.0\n",
              "Data variables: (12/33)\n",
              "    PRES_QC        (PRES) float32 1kB ...\n",
              "    TEMP           (PRES) float32 1kB ...\n",
              "    PSAL           (PRES) float32 1kB ...\n",
              "    FLU2           (PRES) float32 1kB ...\n",
              "    CNDC           (PRES) float32 1kB ...\n",
              "    DENS           (PRES) float32 1kB ...\n",
              "    ...             ...\n",
              "    OXYOCPVL-1_QC  (PRES) float32 1kB ...\n",
              "    SPAR_QC        (PRES) float32 1kB ...\n",
              "    PAR_QC         (PRES) float32 1kB ...\n",
              "    PSAL-2_QC      (PRES) float32 1kB ...\n",
              "    TEMP-2_QC      (PRES) float32 1kB ...\n",
              "    ATTNZS01_QC    (PRES) float32 1kB ...\n",
              "Attributes: (12/73)\n",
              "    qc_manual:                       Recommendations for in-situ data Near Re...\n",
              "    contact:                         datahjelp@hi.no\n",
              "    distribution_statement:          These data are public and free of charge...\n",
              "    naming_authority:                no.unis\n",
              "    license:                         https://creativecommons.org/licenses/by/...\n",
              "    data_assembly_center:            IMR\n",
              "    ...                              ...\n",
              "    station_name:                    P1 (NLEG01)\n",
              "    _NCProperties:                   version=2,netcdf=4.6.3,hdf5=1.10.5\n",
              "    date_created:                    2022-08-08T12:44:34Z\n",
              "    doi:                             10.21335/NMDC-2085836005-P1_NLEG01-1\n",
              "    title:                           CTD_station_P1_NLEG01-1_-_Nansen_Legacy_...\n",
              "    metadata_link:                   https://doi.org/10.21335/NMDC-2085836005..."
            ],
            "text/html": [
              "<div><svg style=\"position: absolute; width: 0; height: 0; overflow: hidden\">\n",
              "<defs>\n",
              "<symbol id=\"icon-database\" viewBox=\"0 0 32 32\">\n",
              "<path d=\"M16 0c-8.837 0-16 2.239-16 5v4c0 2.761 7.163 5 16 5s16-2.239 16-5v-4c0-2.761-7.163-5-16-5z\"></path>\n",
              "<path d=\"M16 17c-8.837 0-16-2.239-16-5v6c0 2.761 7.163 5 16 5s16-2.239 16-5v-6c0 2.761-7.163 5-16 5z\"></path>\n",
              "<path d=\"M16 26c-8.837 0-16-2.239-16-5v6c0 2.761 7.163 5 16 5s16-2.239 16-5v-6c0 2.761-7.163 5-16 5z\"></path>\n",
              "</symbol>\n",
              "<symbol id=\"icon-file-text2\" viewBox=\"0 0 32 32\">\n",
              "<path d=\"M28.681 7.159c-0.694-0.947-1.662-2.053-2.724-3.116s-2.169-2.030-3.116-2.724c-1.612-1.182-2.393-1.319-2.841-1.319h-15.5c-1.378 0-2.5 1.121-2.5 2.5v27c0 1.378 1.122 2.5 2.5 2.5h23c1.378 0 2.5-1.122 2.5-2.5v-19.5c0-0.448-0.137-1.23-1.319-2.841zM24.543 5.457c0.959 0.959 1.712 1.825 2.268 2.543h-4.811v-4.811c0.718 0.556 1.584 1.309 2.543 2.268zM28 29.5c0 0.271-0.229 0.5-0.5 0.5h-23c-0.271 0-0.5-0.229-0.5-0.5v-27c0-0.271 0.229-0.5 0.5-0.5 0 0 15.499-0 15.5 0v7c0 0.552 0.448 1 1 1h7v19.5z\"></path>\n",
              "<path d=\"M23 26h-14c-0.552 0-1-0.448-1-1s0.448-1 1-1h14c0.552 0 1 0.448 1 1s-0.448 1-1 1z\"></path>\n",
              "<path d=\"M23 22h-14c-0.552 0-1-0.448-1-1s0.448-1 1-1h14c0.552 0 1 0.448 1 1s-0.448 1-1 1z\"></path>\n",
              "<path d=\"M23 18h-14c-0.552 0-1-0.448-1-1s0.448-1 1-1h14c0.552 0 1 0.448 1 1s-0.448 1-1 1z\"></path>\n",
              "</symbol>\n",
              "</defs>\n",
              "</svg>\n",
              "<style>/* CSS stylesheet for displaying xarray objects in jupyterlab.\n",
              " *\n",
              " */\n",
              "\n",
              ":root {\n",
              "  --xr-font-color0: var(--jp-content-font-color0, rgba(0, 0, 0, 1));\n",
              "  --xr-font-color2: var(--jp-content-font-color2, rgba(0, 0, 0, 0.54));\n",
              "  --xr-font-color3: var(--jp-content-font-color3, rgba(0, 0, 0, 0.38));\n",
              "  --xr-border-color: var(--jp-border-color2, #e0e0e0);\n",
              "  --xr-disabled-color: var(--jp-layout-color3, #bdbdbd);\n",
              "  --xr-background-color: var(--jp-layout-color0, white);\n",
              "  --xr-background-color-row-even: var(--jp-layout-color1, white);\n",
              "  --xr-background-color-row-odd: var(--jp-layout-color2, #eeeeee);\n",
              "}\n",
              "\n",
              "html[theme=dark],\n",
              "html[data-theme=dark],\n",
              "body[data-theme=dark],\n",
              "body.vscode-dark {\n",
              "  --xr-font-color0: rgba(255, 255, 255, 1);\n",
              "  --xr-font-color2: rgba(255, 255, 255, 0.54);\n",
              "  --xr-font-color3: rgba(255, 255, 255, 0.38);\n",
              "  --xr-border-color: #1F1F1F;\n",
              "  --xr-disabled-color: #515151;\n",
              "  --xr-background-color: #111111;\n",
              "  --xr-background-color-row-even: #111111;\n",
              "  --xr-background-color-row-odd: #313131;\n",
              "}\n",
              "\n",
              ".xr-wrap {\n",
              "  display: block !important;\n",
              "  min-width: 300px;\n",
              "  max-width: 700px;\n",
              "}\n",
              "\n",
              ".xr-text-repr-fallback {\n",
              "  /* fallback to plain text repr when CSS is not injected (untrusted notebook) */\n",
              "  display: none;\n",
              "}\n",
              "\n",
              ".xr-header {\n",
              "  padding-top: 6px;\n",
              "  padding-bottom: 6px;\n",
              "  margin-bottom: 4px;\n",
              "  border-bottom: solid 1px var(--xr-border-color);\n",
              "}\n",
              "\n",
              ".xr-header > div,\n",
              ".xr-header > ul {\n",
              "  display: inline;\n",
              "  margin-top: 0;\n",
              "  margin-bottom: 0;\n",
              "}\n",
              "\n",
              ".xr-obj-type,\n",
              ".xr-array-name {\n",
              "  margin-left: 2px;\n",
              "  margin-right: 10px;\n",
              "}\n",
              "\n",
              ".xr-obj-type {\n",
              "  color: var(--xr-font-color2);\n",
              "}\n",
              "\n",
              ".xr-sections {\n",
              "  padding-left: 0 !important;\n",
              "  display: grid;\n",
              "  grid-template-columns: 150px auto auto 1fr 0 20px 0 20px;\n",
              "}\n",
              "\n",
              ".xr-section-item {\n",
              "  display: contents;\n",
              "}\n",
              "\n",
              ".xr-section-item input {\n",
              "  display: inline-block;\n",
              "  opacity: 0;\n",
              "}\n",
              "\n",
              ".xr-section-item input + label {\n",
              "  color: var(--xr-disabled-color);\n",
              "}\n",
              "\n",
              ".xr-section-item input:enabled + label {\n",
              "  cursor: pointer;\n",
              "  color: var(--xr-font-color2);\n",
              "}\n",
              "\n",
              ".xr-section-item input:focus + label {\n",
              "  border: 2px solid var(--xr-font-color0);\n",
              "}\n",
              "\n",
              ".xr-section-item input:enabled + label:hover {\n",
              "  color: var(--xr-font-color0);\n",
              "}\n",
              "\n",
              ".xr-section-summary {\n",
              "  grid-column: 1;\n",
              "  color: var(--xr-font-color2);\n",
              "  font-weight: 500;\n",
              "}\n",
              "\n",
              ".xr-section-summary > span {\n",
              "  display: inline-block;\n",
              "  padding-left: 0.5em;\n",
              "}\n",
              "\n",
              ".xr-section-summary-in:disabled + label {\n",
              "  color: var(--xr-font-color2);\n",
              "}\n",
              "\n",
              ".xr-section-summary-in + label:before {\n",
              "  display: inline-block;\n",
              "  content: '►';\n",
              "  font-size: 11px;\n",
              "  width: 15px;\n",
              "  text-align: center;\n",
              "}\n",
              "\n",
              ".xr-section-summary-in:disabled + label:before {\n",
              "  color: var(--xr-disabled-color);\n",
              "}\n",
              "\n",
              ".xr-section-summary-in:checked + label:before {\n",
              "  content: '▼';\n",
              "}\n",
              "\n",
              ".xr-section-summary-in:checked + label > span {\n",
              "  display: none;\n",
              "}\n",
              "\n",
              ".xr-section-summary,\n",
              ".xr-section-inline-details {\n",
              "  padding-top: 4px;\n",
              "  padding-bottom: 4px;\n",
              "}\n",
              "\n",
              ".xr-section-inline-details {\n",
              "  grid-column: 2 / -1;\n",
              "}\n",
              "\n",
              ".xr-section-details {\n",
              "  display: none;\n",
              "  grid-column: 1 / -1;\n",
              "  margin-bottom: 5px;\n",
              "}\n",
              "\n",
              ".xr-section-summary-in:checked ~ .xr-section-details {\n",
              "  display: contents;\n",
              "}\n",
              "\n",
              ".xr-array-wrap {\n",
              "  grid-column: 1 / -1;\n",
              "  display: grid;\n",
              "  grid-template-columns: 20px auto;\n",
              "}\n",
              "\n",
              ".xr-array-wrap > label {\n",
              "  grid-column: 1;\n",
              "  vertical-align: top;\n",
              "}\n",
              "\n",
              ".xr-preview {\n",
              "  color: var(--xr-font-color3);\n",
              "}\n",
              "\n",
              ".xr-array-preview,\n",
              ".xr-array-data {\n",
              "  padding: 0 5px !important;\n",
              "  grid-column: 2;\n",
              "}\n",
              "\n",
              ".xr-array-data,\n",
              ".xr-array-in:checked ~ .xr-array-preview {\n",
              "  display: none;\n",
              "}\n",
              "\n",
              ".xr-array-in:checked ~ .xr-array-data,\n",
              ".xr-array-preview {\n",
              "  display: inline-block;\n",
              "}\n",
              "\n",
              ".xr-dim-list {\n",
              "  display: inline-block !important;\n",
              "  list-style: none;\n",
              "  padding: 0 !important;\n",
              "  margin: 0;\n",
              "}\n",
              "\n",
              ".xr-dim-list li {\n",
              "  display: inline-block;\n",
              "  padding: 0;\n",
              "  margin: 0;\n",
              "}\n",
              "\n",
              ".xr-dim-list:before {\n",
              "  content: '(';\n",
              "}\n",
              "\n",
              ".xr-dim-list:after {\n",
              "  content: ')';\n",
              "}\n",
              "\n",
              ".xr-dim-list li:not(:last-child):after {\n",
              "  content: ',';\n",
              "  padding-right: 5px;\n",
              "}\n",
              "\n",
              ".xr-has-index {\n",
              "  font-weight: bold;\n",
              "}\n",
              "\n",
              ".xr-var-list,\n",
              ".xr-var-item {\n",
              "  display: contents;\n",
              "}\n",
              "\n",
              ".xr-var-item > div,\n",
              ".xr-var-item label,\n",
              ".xr-var-item > .xr-var-name span {\n",
              "  background-color: var(--xr-background-color-row-even);\n",
              "  margin-bottom: 0;\n",
              "}\n",
              "\n",
              ".xr-var-item > .xr-var-name:hover span {\n",
              "  padding-right: 5px;\n",
              "}\n",
              "\n",
              ".xr-var-list > li:nth-child(odd) > div,\n",
              ".xr-var-list > li:nth-child(odd) > label,\n",
              ".xr-var-list > li:nth-child(odd) > .xr-var-name span {\n",
              "  background-color: var(--xr-background-color-row-odd);\n",
              "}\n",
              "\n",
              ".xr-var-name {\n",
              "  grid-column: 1;\n",
              "}\n",
              "\n",
              ".xr-var-dims {\n",
              "  grid-column: 2;\n",
              "}\n",
              "\n",
              ".xr-var-dtype {\n",
              "  grid-column: 3;\n",
              "  text-align: right;\n",
              "  color: var(--xr-font-color2);\n",
              "}\n",
              "\n",
              ".xr-var-preview {\n",
              "  grid-column: 4;\n",
              "}\n",
              "\n",
              ".xr-index-preview {\n",
              "  grid-column: 2 / 5;\n",
              "  color: var(--xr-font-color2);\n",
              "}\n",
              "\n",
              ".xr-var-name,\n",
              ".xr-var-dims,\n",
              ".xr-var-dtype,\n",
              ".xr-preview,\n",
              ".xr-attrs dt {\n",
              "  white-space: nowrap;\n",
              "  overflow: hidden;\n",
              "  text-overflow: ellipsis;\n",
              "  padding-right: 10px;\n",
              "}\n",
              "\n",
              ".xr-var-name:hover,\n",
              ".xr-var-dims:hover,\n",
              ".xr-var-dtype:hover,\n",
              ".xr-attrs dt:hover {\n",
              "  overflow: visible;\n",
              "  width: auto;\n",
              "  z-index: 1;\n",
              "}\n",
              "\n",
              ".xr-var-attrs,\n",
              ".xr-var-data,\n",
              ".xr-index-data {\n",
              "  display: none;\n",
              "  background-color: var(--xr-background-color) !important;\n",
              "  padding-bottom: 5px !important;\n",
              "}\n",
              "\n",
              ".xr-var-attrs-in:checked ~ .xr-var-attrs,\n",
              ".xr-var-data-in:checked ~ .xr-var-data,\n",
              ".xr-index-data-in:checked ~ .xr-index-data {\n",
              "  display: block;\n",
              "}\n",
              "\n",
              ".xr-var-data > table {\n",
              "  float: right;\n",
              "}\n",
              "\n",
              ".xr-var-name span,\n",
              ".xr-var-data,\n",
              ".xr-index-name div,\n",
              ".xr-index-data,\n",
              ".xr-attrs {\n",
              "  padding-left: 25px !important;\n",
              "}\n",
              "\n",
              ".xr-attrs,\n",
              ".xr-var-attrs,\n",
              ".xr-var-data,\n",
              ".xr-index-data {\n",
              "  grid-column: 1 / -1;\n",
              "}\n",
              "\n",
              "dl.xr-attrs {\n",
              "  padding: 0;\n",
              "  margin: 0;\n",
              "  display: grid;\n",
              "  grid-template-columns: 125px auto;\n",
              "}\n",
              "\n",
              ".xr-attrs dt,\n",
              ".xr-attrs dd {\n",
              "  padding: 0;\n",
              "  margin: 0;\n",
              "  float: left;\n",
              "  padding-right: 10px;\n",
              "  width: auto;\n",
              "}\n",
              "\n",
              ".xr-attrs dt {\n",
              "  font-weight: normal;\n",
              "  grid-column: 1;\n",
              "}\n",
              "\n",
              ".xr-attrs dt:hover span {\n",
              "  display: inline-block;\n",
              "  background: var(--xr-background-color);\n",
              "  padding-right: 10px;\n",
              "}\n",
              "\n",
              ".xr-attrs dd {\n",
              "  grid-column: 2;\n",
              "  white-space: pre-wrap;\n",
              "  word-break: break-all;\n",
              "}\n",
              "\n",
              ".xr-icon-database,\n",
              ".xr-icon-file-text2,\n",
              ".xr-no-icon {\n",
              "  display: inline-block;\n",
              "  vertical-align: middle;\n",
              "  width: 1em;\n",
              "  height: 1.5em !important;\n",
              "  stroke-width: 0;\n",
              "  stroke: currentColor;\n",
              "  fill: currentColor;\n",
              "}\n",
              "</style><pre class='xr-text-repr-fallback'>&lt;xarray.Dataset&gt; Size: 44kB\n",
              "Dimensions:        (PRES: 320)\n",
              "Coordinates:\n",
              "  * PRES           (PRES) float32 1kB 1.0 2.0 3.0 4.0 ... 318.0 319.0 320.0\n",
              "Data variables: (12/33)\n",
              "    PRES_QC        (PRES) float32 1kB ...\n",
              "    TEMP           (PRES) float32 1kB ...\n",
              "    PSAL           (PRES) float32 1kB ...\n",
              "    FLU2           (PRES) float32 1kB ...\n",
              "    CNDC           (PRES) float32 1kB ...\n",
              "    DENS           (PRES) float32 1kB ...\n",
              "    ...             ...\n",
              "    OXYOCPVL-1_QC  (PRES) float32 1kB ...\n",
              "    SPAR_QC        (PRES) float32 1kB ...\n",
              "    PAR_QC         (PRES) float32 1kB ...\n",
              "    PSAL-2_QC      (PRES) float32 1kB ...\n",
              "    TEMP-2_QC      (PRES) float32 1kB ...\n",
              "    ATTNZS01_QC    (PRES) float32 1kB ...\n",
              "Attributes: (12/73)\n",
              "    qc_manual:                       Recommendations for in-situ data Near Re...\n",
              "    contact:                         datahjelp@hi.no\n",
              "    distribution_statement:          These data are public and free of charge...\n",
              "    naming_authority:                no.unis\n",
              "    license:                         https://creativecommons.org/licenses/by/...\n",
              "    data_assembly_center:            IMR\n",
              "    ...                              ...\n",
              "    station_name:                    P1 (NLEG01)\n",
              "    _NCProperties:                   version=2,netcdf=4.6.3,hdf5=1.10.5\n",
              "    date_created:                    2022-08-08T12:44:34Z\n",
              "    doi:                             10.21335/NMDC-2085836005-P1_NLEG01-1\n",
              "    title:                           CTD_station_P1_NLEG01-1_-_Nansen_Legacy_...\n",
              "    metadata_link:                   https://doi.org/10.21335/NMDC-2085836005...</pre><div class='xr-wrap' style='display:none'><div class='xr-header'><div class='xr-obj-type'>xarray.Dataset</div></div><ul class='xr-sections'><li class='xr-section-item'><input id='section-b5f105bb-a1e0-4d9f-9cf2-25db40a72197' class='xr-section-summary-in' type='checkbox' disabled ><label for='section-b5f105bb-a1e0-4d9f-9cf2-25db40a72197' class='xr-section-summary'  title='Expand/collapse section'>Dimensions:</label><div class='xr-section-inline-details'><ul class='xr-dim-list'><li><span class='xr-has-index'>PRES</span>: 320</li></ul></div><div class='xr-section-details'></div></li><li class='xr-section-item'><input id='section-f041ade6-4904-46b4-878d-4116e3a10203' class='xr-section-summary-in' type='checkbox'  checked><label for='section-f041ade6-4904-46b4-878d-4116e3a10203' class='xr-section-summary' >Coordinates: <span>(1)</span></label><div class='xr-section-inline-details'></div><div class='xr-section-details'><ul class='xr-var-list'><li class='xr-var-item'><div class='xr-var-name'><span class='xr-has-index'>PRES</span></div><div class='xr-var-dims'>(PRES)</div><div class='xr-var-dtype'>float32</div><div class='xr-var-preview xr-preview'>1.0 2.0 3.0 ... 318.0 319.0 320.0</div><input id='attrs-5ba03e4b-04a7-462f-881c-5ed055d4d3d0' class='xr-var-attrs-in' type='checkbox' ><label for='attrs-5ba03e4b-04a7-462f-881c-5ed055d4d3d0' title='Show/Hide attributes'><svg class='icon xr-icon-file-text2'><use xlink:href='#icon-file-text2'></use></svg></label><input id='data-08d09336-308d-4309-b31f-ed8bda621484' class='xr-var-data-in' type='checkbox'><label for='data-08d09336-308d-4309-b31f-ed8bda621484' title='Show/Hide data repr'><svg class='icon xr-icon-database'><use xlink:href='#icon-database'></use></svg></label><div class='xr-var-attrs'><dl class='xr-attrs'><dt><span>axis :</span></dt><dd>Z</dd><dt><span>uncertainty :</span></dt><dd> </dd><dt><span>comment :</span></dt><dd> </dd><dt><span>ancillary_variables :</span></dt><dd>PRES_QC</dd><dt><span>standard_name :</span></dt><dd>sea_water_pressure</dd><dt><span>long_name :</span></dt><dd>Sea pressure</dd><dt><span>units :</span></dt><dd>dbar</dd><dt><span>positive :</span></dt><dd>down</dd><dt><span>data_mode :</span></dt><dd>D</dd><dt><span>coverage_content_type :</span></dt><dd>physicalMeasurement</dd></dl></div><div class='xr-var-data'><pre>array([  1.,   2.,   3., ..., 318., 319., 320.], dtype=float32)</pre></div></li></ul></div></li><li class='xr-section-item'><input id='section-6f919332-e345-48c1-a80f-8faf2823e28f' class='xr-section-summary-in' type='checkbox'  ><label for='section-6f919332-e345-48c1-a80f-8faf2823e28f' class='xr-section-summary' >Data variables: <span>(33)</span></label><div class='xr-section-inline-details'></div><div class='xr-section-details'><ul class='xr-var-list'><li class='xr-var-item'><div class='xr-var-name'><span>PRES_QC</span></div><div class='xr-var-dims'>(PRES)</div><div class='xr-var-dtype'>float32</div><div class='xr-var-preview xr-preview'>...</div><input id='attrs-dcf23ebb-e8cb-4564-8762-5fce91d1808e' class='xr-var-attrs-in' type='checkbox' ><label for='attrs-dcf23ebb-e8cb-4564-8762-5fce91d1808e' title='Show/Hide attributes'><svg class='icon xr-icon-file-text2'><use xlink:href='#icon-file-text2'></use></svg></label><input id='data-6f411e88-ec7a-4983-8e13-339bdb23484c' class='xr-var-data-in' type='checkbox'><label for='data-6f411e88-ec7a-4983-8e13-339bdb23484c' title='Show/Hide data repr'><svg class='icon xr-icon-database'><use xlink:href='#icon-database'></use></svg></label><div class='xr-var-attrs'><dl class='xr-attrs'><dt><span>conventions :</span></dt><dd>Copernicus Marine In Situ reference table 2</dd><dt><span>valid_min :</span></dt><dd>0</dd><dt><span>valid_max :</span></dt><dd>9</dd><dt><span>flag_values :</span></dt><dd>[0 1 2 3 4 5 6 7 8 9]</dd><dt><span>flag_meanings :</span></dt><dd>no_qc_performed good_data probably_good_data bad_data_that_are_potentially_correctable bad_data value_changed value_below_detection nominal_value interpolated_value missing_value</dd><dt><span>long_name :</span></dt><dd>Sea pressure quality flag</dd></dl></div><div class='xr-var-data'><pre>[320 values with dtype=float32]</pre></div></li><li class='xr-var-item'><div class='xr-var-name'><span>TEMP</span></div><div class='xr-var-dims'>(PRES)</div><div class='xr-var-dtype'>float32</div><div class='xr-var-preview xr-preview'>...</div><input id='attrs-c9a9d27c-1b5a-408c-b04b-bb4ea67f4c8e' class='xr-var-attrs-in' type='checkbox' ><label for='attrs-c9a9d27c-1b5a-408c-b04b-bb4ea67f4c8e' title='Show/Hide attributes'><svg class='icon xr-icon-file-text2'><use xlink:href='#icon-file-text2'></use></svg></label><input id='data-98d38335-c78b-4308-bb58-48ac5d540396' class='xr-var-data-in' type='checkbox'><label for='data-98d38335-c78b-4308-bb58-48ac5d540396' title='Show/Hide data repr'><svg class='icon xr-icon-database'><use xlink:href='#icon-database'></use></svg></label><div class='xr-var-attrs'><dl class='xr-attrs'><dt><span>standard_name :</span></dt><dd>sea_water_temperature</dd><dt><span>long_name :</span></dt><dd>Sea temperature</dd><dt><span>units :</span></dt><dd>degrees_C</dd><dt><span>valid_min :</span></dt><dd>-2.5</dd><dt><span>valid_max :</span></dt><dd>40.0</dd><dt><span>ancillary_variables :</span></dt><dd>TEMP_QC </dd><dt><span>data_mode :</span></dt><dd>D</dd><dt><span>coverage_content_type :</span></dt><dd>physicalMeasurement</dd></dl></div><div class='xr-var-data'><pre>[320 values with dtype=float32]</pre></div></li><li class='xr-var-item'><div class='xr-var-name'><span>PSAL</span></div><div class='xr-var-dims'>(PRES)</div><div class='xr-var-dtype'>float32</div><div class='xr-var-preview xr-preview'>...</div><input id='attrs-b6631d07-7857-4c26-98a2-3516fd6fa6a7' class='xr-var-attrs-in' type='checkbox' ><label for='attrs-b6631d07-7857-4c26-98a2-3516fd6fa6a7' title='Show/Hide attributes'><svg class='icon xr-icon-file-text2'><use xlink:href='#icon-file-text2'></use></svg></label><input id='data-f97cd587-754e-4454-ba56-5ba395fdf77e' class='xr-var-data-in' type='checkbox'><label for='data-f97cd587-754e-4454-ba56-5ba395fdf77e' title='Show/Hide data repr'><svg class='icon xr-icon-database'><use xlink:href='#icon-database'></use></svg></label><div class='xr-var-attrs'><dl class='xr-attrs'><dt><span>standard_name :</span></dt><dd>sea_water_practical_salinity</dd><dt><span>long_name :</span></dt><dd>Practical salinity</dd><dt><span>units :</span></dt><dd>0.001</dd><dt><span>valid_min :</span></dt><dd>2.0</dd><dt><span>valid_max :</span></dt><dd>41.0</dd><dt><span>ancillary_variables :</span></dt><dd>PSAL_QC </dd><dt><span>data_mode :</span></dt><dd>D</dd><dt><span>coverage_content_type :</span></dt><dd>physicalMeasurement</dd></dl></div><div class='xr-var-data'><pre>[320 values with dtype=float32]</pre></div></li><li class='xr-var-item'><div class='xr-var-name'><span>FLU2</span></div><div class='xr-var-dims'>(PRES)</div><div class='xr-var-dtype'>float32</div><div class='xr-var-preview xr-preview'>...</div><input id='attrs-aee01f33-894e-4497-a116-1f3a26cc0648' class='xr-var-attrs-in' type='checkbox' ><label for='attrs-aee01f33-894e-4497-a116-1f3a26cc0648' title='Show/Hide attributes'><svg class='icon xr-icon-file-text2'><use xlink:href='#icon-file-text2'></use></svg></label><input id='data-80bdfddb-1c95-48f5-8a43-715b515c3b6f' class='xr-var-data-in' type='checkbox'><label for='data-80bdfddb-1c95-48f5-8a43-715b515c3b6f' title='Show/Hide data repr'><svg class='icon xr-icon-database'><use xlink:href='#icon-database'></use></svg></label><div class='xr-var-attrs'><dl class='xr-attrs'><dt><span>standard_name :</span></dt><dd>mass_concentration_of_chlorophyll_a_in_sea_water</dd><dt><span>long_name :</span></dt><dd>Chlorophyll-a fluorescence</dd><dt><span>units :</span></dt><dd>mg m-3</dd><dt><span>valid_min :</span></dt><dd>0.0</dd><dt><span>valid_max :</span></dt><dd>100.0</dd><dt><span>ancillary_variables :</span></dt><dd>FLU2_QC </dd><dt><span>data_mode :</span></dt><dd>R</dd><dt><span>comment :</span></dt><dd>Fluorescence, WET Labs ECO-AFL/FL [mg/m^3]</dd><dt><span>coverage_content_type :</span></dt><dd>physicalMeasurement</dd></dl></div><div class='xr-var-data'><pre>[320 values with dtype=float32]</pre></div></li><li class='xr-var-item'><div class='xr-var-name'><span>CNDC</span></div><div class='xr-var-dims'>(PRES)</div><div class='xr-var-dtype'>float32</div><div class='xr-var-preview xr-preview'>...</div><input id='attrs-505581df-2423-429b-82e8-98470bfc6aeb' class='xr-var-attrs-in' type='checkbox' ><label for='attrs-505581df-2423-429b-82e8-98470bfc6aeb' title='Show/Hide attributes'><svg class='icon xr-icon-file-text2'><use xlink:href='#icon-file-text2'></use></svg></label><input id='data-b0a57e86-2224-4490-8a71-de2baf235cfe' class='xr-var-data-in' type='checkbox'><label for='data-b0a57e86-2224-4490-8a71-de2baf235cfe' title='Show/Hide data repr'><svg class='icon xr-icon-database'><use xlink:href='#icon-database'></use></svg></label><div class='xr-var-attrs'><dl class='xr-attrs'><dt><span>standard_name :</span></dt><dd>sea_water_electrical_conductivity</dd><dt><span>long_name :</span></dt><dd>Electrical conductivity</dd><dt><span>units :</span></dt><dd>S m-1</dd><dt><span>valid_min :</span></dt><dd>0.0</dd><dt><span>valid_max :</span></dt><dd>50.0</dd><dt><span>ancillary_variables :</span></dt><dd>CNDC_QC </dd><dt><span>data_mode :</span></dt><dd>D</dd><dt><span>coverage_content_type :</span></dt><dd>physicalMeasurement</dd></dl></div><div class='xr-var-data'><pre>[320 values with dtype=float32]</pre></div></li><li class='xr-var-item'><div class='xr-var-name'><span>DENS</span></div><div class='xr-var-dims'>(PRES)</div><div class='xr-var-dtype'>float32</div><div class='xr-var-preview xr-preview'>...</div><input id='attrs-d680fdcd-ab21-444f-8340-e3e79383134b' class='xr-var-attrs-in' type='checkbox' ><label for='attrs-d680fdcd-ab21-444f-8340-e3e79383134b' title='Show/Hide attributes'><svg class='icon xr-icon-file-text2'><use xlink:href='#icon-file-text2'></use></svg></label><input id='data-ab4cf53a-7e5d-46fc-9436-5fa21a95443e' class='xr-var-data-in' type='checkbox'><label for='data-ab4cf53a-7e5d-46fc-9436-5fa21a95443e' title='Show/Hide data repr'><svg class='icon xr-icon-database'><use xlink:href='#icon-database'></use></svg></label><div class='xr-var-attrs'><dl class='xr-attrs'><dt><span>standard_name :</span></dt><dd>sea_water_sigma_theta</dd><dt><span>long_name :</span></dt><dd>Sea density (sigma-theta)</dd><dt><span>units :</span></dt><dd>kg m-3</dd><dt><span>valid_min :</span></dt><dd>20.0</dd><dt><span>valid_max :</span></dt><dd>40.0</dd><dt><span>ancillary_variables :</span></dt><dd>DENS_QC </dd><dt><span>data_mode :</span></dt><dd>R</dd><dt><span>comment :</span></dt><dd>density, sigma-theta [kg/m^3]</dd><dt><span>coverage_content_type :</span></dt><dd>physicalMeasurement</dd></dl></div><div class='xr-var-data'><pre>[320 values with dtype=float32]</pre></div></li><li class='xr-var-item'><div class='xr-var-name'><span>SVEL</span></div><div class='xr-var-dims'>(PRES)</div><div class='xr-var-dtype'>float32</div><div class='xr-var-preview xr-preview'>...</div><input id='attrs-74d42f76-0b7e-4b45-989e-cd81597437a5' class='xr-var-attrs-in' type='checkbox' ><label for='attrs-74d42f76-0b7e-4b45-989e-cd81597437a5' title='Show/Hide attributes'><svg class='icon xr-icon-file-text2'><use xlink:href='#icon-file-text2'></use></svg></label><input id='data-4ab0c143-57d5-4bdb-80ba-8b0fdcb5aaee' class='xr-var-data-in' type='checkbox'><label for='data-4ab0c143-57d5-4bdb-80ba-8b0fdcb5aaee' title='Show/Hide data repr'><svg class='icon xr-icon-database'><use xlink:href='#icon-database'></use></svg></label><div class='xr-var-attrs'><dl class='xr-attrs'><dt><span>standard_name :</span></dt><dd>speed_of_sound_in_sea_water</dd><dt><span>long_name :</span></dt><dd>Sound velocity</dd><dt><span>units :</span></dt><dd>m s-1</dd><dt><span>valid_min :</span></dt><dd>0.0</dd><dt><span>valid_max :</span></dt><dd>1000.0</dd><dt><span>ancillary_variables :</span></dt><dd>SVEL_QC </dd><dt><span>data_mode :</span></dt><dd>R</dd><dt><span>comment :</span></dt><dd>Sound Velocity [Chen-Millero, m/s]</dd><dt><span>coverage_content_type :</span></dt><dd>physicalMeasurement</dd></dl></div><div class='xr-var-data'><pre>[320 values with dtype=float32]</pre></div></li><li class='xr-var-item'><div class='xr-var-name'><span>CCOMD003</span></div><div class='xr-var-dims'>(PRES)</div><div class='xr-var-dtype'>float32</div><div class='xr-var-preview xr-preview'>...</div><input id='attrs-4c0b96cd-67ed-4dad-be6a-953a3b2246e1' class='xr-var-attrs-in' type='checkbox' ><label for='attrs-4c0b96cd-67ed-4dad-be6a-953a3b2246e1' title='Show/Hide attributes'><svg class='icon xr-icon-file-text2'><use xlink:href='#icon-file-text2'></use></svg></label><input id='data-c150ff8e-aa37-481e-bbbf-6296fbd358e6' class='xr-var-data-in' type='checkbox'><label for='data-c150ff8e-aa37-481e-bbbf-6296fbd358e6' title='Show/Hide data repr'><svg class='icon xr-icon-database'><use xlink:href='#icon-database'></use></svg></label><div class='xr-var-attrs'><dl class='xr-attrs'><dt><span>standard_name :</span></dt><dd>concentration_of_colored_dissolved_organic_matter_in_sea_water_expressed_as_equivalent_mass_fraction_of_quinine_sulfate_dihydrate</dd><dt><span>long_name :</span></dt><dd>CDOM Gelbstoff per unit volume of the water body by in-situ fluorometer</dd><dt><span>units :</span></dt><dd>mg m-3</dd><dt><span>valid_min :</span></dt><dd>0.0</dd><dt><span>valid_max :</span></dt><dd>100.0</dd><dt><span>ancillary_variables :</span></dt><dd>CCOMD003_QC </dd><dt><span>data_mode :</span></dt><dd>R</dd><dt><span>comment :</span></dt><dd>Fluorescence, WET Labs CDOM [mg/m^3]</dd><dt><span>coverage_content_type :</span></dt><dd>physicalMeasurement</dd></dl></div><div class='xr-var-data'><pre>[320 values with dtype=float32]</pre></div></li><li class='xr-var-item'><div class='xr-var-name'><span>DOX1-1</span></div><div class='xr-var-dims'>(PRES)</div><div class='xr-var-dtype'>float32</div><div class='xr-var-preview xr-preview'>...</div><input id='attrs-c8931d6d-6dab-4301-a009-89eebdce3f1f' class='xr-var-attrs-in' type='checkbox' ><label for='attrs-c8931d6d-6dab-4301-a009-89eebdce3f1f' title='Show/Hide attributes'><svg class='icon xr-icon-file-text2'><use xlink:href='#icon-file-text2'></use></svg></label><input id='data-7d2e608d-a550-4868-bf90-46139efd5bdb' class='xr-var-data-in' type='checkbox'><label for='data-7d2e608d-a550-4868-bf90-46139efd5bdb' title='Show/Hide data repr'><svg class='icon xr-icon-database'><use xlink:href='#icon-database'></use></svg></label><div class='xr-var-attrs'><dl class='xr-attrs'><dt><span>standard_name :</span></dt><dd>volume_fraction_of_oxygen_in_sea_water</dd><dt><span>long_name :</span></dt><dd>Dissolved oxygen</dd><dt><span>units :</span></dt><dd>ml l-1</dd><dt><span>valid_min :</span></dt><dd>0.0</dd><dt><span>valid_max :</span></dt><dd>1000.0</dd><dt><span>ancillary_variables :</span></dt><dd>DOX1-1_QC </dd><dt><span>data_mode :</span></dt><dd>R</dd><dt><span>comment :</span></dt><dd>Oxygen, SBE 43 [ml/l], WS = 2</dd><dt><span>coverage_content_type :</span></dt><dd>physicalMeasurement</dd></dl></div><div class='xr-var-data'><pre>[320 values with dtype=float32]</pre></div></li><li class='xr-var-item'><div class='xr-var-name'><span>DOX2-1</span></div><div class='xr-var-dims'>(PRES)</div><div class='xr-var-dtype'>float32</div><div class='xr-var-preview xr-preview'>...</div><input id='attrs-555a369c-3da4-4c08-8e0c-d3641eec625c' class='xr-var-attrs-in' type='checkbox' ><label for='attrs-555a369c-3da4-4c08-8e0c-d3641eec625c' title='Show/Hide attributes'><svg class='icon xr-icon-file-text2'><use xlink:href='#icon-file-text2'></use></svg></label><input id='data-bcdf5f57-6a8f-4abb-977b-544a2332a805' class='xr-var-data-in' type='checkbox'><label for='data-bcdf5f57-6a8f-4abb-977b-544a2332a805' title='Show/Hide data repr'><svg class='icon xr-icon-database'><use xlink:href='#icon-database'></use></svg></label><div class='xr-var-attrs'><dl class='xr-attrs'><dt><span>standard_name :</span></dt><dd>moles_of_oxygen_per_unit_mass_in_sea_water</dd><dt><span>long_name :</span></dt><dd>Dissolved oxygen</dd><dt><span>units :</span></dt><dd>\\302\\265mol kg-1</dd><dt><span>valid_min :</span></dt><dd>0.0</dd><dt><span>valid_max :</span></dt><dd>1000.0</dd><dt><span>ancillary_variables :</span></dt><dd>DOX2-1_QC </dd><dt><span>data_mode :</span></dt><dd>R</dd><dt><span>comment :</span></dt><dd>Sbox0Mm/Kg</dd><dt><span>coverage_content_type :</span></dt><dd>physicalMeasurement</dd></dl></div><div class='xr-var-data'><pre>[320 values with dtype=float32]</pre></div></li><li class='xr-var-item'><div class='xr-var-name'><span>CNDC-2</span></div><div class='xr-var-dims'>(PRES)</div><div class='xr-var-dtype'>float32</div><div class='xr-var-preview xr-preview'>...</div><input id='attrs-bc45bdf3-3047-4332-bc55-4684ab8e0f2d' class='xr-var-attrs-in' type='checkbox' ><label for='attrs-bc45bdf3-3047-4332-bc55-4684ab8e0f2d' title='Show/Hide attributes'><svg class='icon xr-icon-file-text2'><use xlink:href='#icon-file-text2'></use></svg></label><input id='data-174cb3d7-7cca-48fc-b5ca-23f8fc2ef2b3' class='xr-var-data-in' type='checkbox'><label for='data-174cb3d7-7cca-48fc-b5ca-23f8fc2ef2b3' title='Show/Hide data repr'><svg class='icon xr-icon-database'><use xlink:href='#icon-database'></use></svg></label><div class='xr-var-attrs'><dl class='xr-attrs'><dt><span>standard_name :</span></dt><dd>sea_water_electrical_conductivity</dd><dt><span>long_name :</span></dt><dd>Electrical conductivity</dd><dt><span>units :</span></dt><dd>S m-1</dd><dt><span>valid_min :</span></dt><dd>0.0</dd><dt><span>valid_max :</span></dt><dd>50.0</dd><dt><span>ancillary_variables :</span></dt><dd>CNDC-2_QC </dd><dt><span>data_mode :</span></dt><dd>R</dd><dt><span>comment :</span></dt><dd>Conductivity, 2 [S/m]</dd><dt><span>coverage_content_type :</span></dt><dd>physicalMeasurement</dd></dl></div><div class='xr-var-data'><pre>[320 values with dtype=float32]</pre></div></li><li class='xr-var-item'><div class='xr-var-name'><span>OXYOCPVL-1</span></div><div class='xr-var-dims'>(PRES)</div><div class='xr-var-dtype'>float32</div><div class='xr-var-preview xr-preview'>...</div><input id='attrs-8dd11dc8-04d6-4efd-8681-d0cdd26014ce' class='xr-var-attrs-in' type='checkbox' ><label for='attrs-8dd11dc8-04d6-4efd-8681-d0cdd26014ce' title='Show/Hide attributes'><svg class='icon xr-icon-file-text2'><use xlink:href='#icon-file-text2'></use></svg></label><input id='data-2fedefc4-afaa-4985-848c-afc825cf0d43' class='xr-var-data-in' type='checkbox'><label for='data-2fedefc4-afaa-4985-848c-afc825cf0d43' title='Show/Hide data repr'><svg class='icon xr-icon-database'><use xlink:href='#icon-database'></use></svg></label><div class='xr-var-attrs'><dl class='xr-attrs'><dt><span>standard_name :</span></dt><dd>&#x27;\\342\\200\\231</dd><dt><span>long_name :</span></dt><dd>Raw signal (voltage) of instrument output by oxygen senso</dd><dt><span>units :</span></dt><dd>V</dd><dt><span>valid_min :</span></dt><dd>0.0</dd><dt><span>valid_max :</span></dt><dd>1000.0</dd><dt><span>ancillary_variables :</span></dt><dd>OXYOCPVL-1_QC </dd><dt><span>data_mode :</span></dt><dd>R</dd><dt><span>comment :</span></dt><dd>Oxygen Voltage, SBE 43</dd><dt><span>coverage_content_type :</span></dt><dd>physicalMeasurement</dd></dl></div><div class='xr-var-data'><pre>[320 values with dtype=float32]</pre></div></li><li class='xr-var-item'><div class='xr-var-name'><span>SPAR</span></div><div class='xr-var-dims'>(PRES)</div><div class='xr-var-dtype'>float32</div><div class='xr-var-preview xr-preview'>...</div><input id='attrs-50310ae5-77a9-404b-bae1-178d8b14d7b2' class='xr-var-attrs-in' type='checkbox' ><label for='attrs-50310ae5-77a9-404b-bae1-178d8b14d7b2' title='Show/Hide attributes'><svg class='icon xr-icon-file-text2'><use xlink:href='#icon-file-text2'></use></svg></label><input id='data-d86cba64-4f44-45a3-a0f1-4ea5b48c5d31' class='xr-var-data-in' type='checkbox'><label for='data-d86cba64-4f44-45a3-a0f1-4ea5b48c5d31' title='Show/Hide data repr'><svg class='icon xr-icon-database'><use xlink:href='#icon-database'></use></svg></label><div class='xr-var-attrs'><dl class='xr-attrs'><dt><span>standard_name :</span></dt><dd>&#x27;\\342\\200\\231</dd><dt><span>long_name :</span></dt><dd>Photosynthetically active radiation</dd><dt><span>units :</span></dt><dd>\\316\\274mol m-2 s-1</dd><dt><span>valid_min :</span></dt><dd>0.0</dd><dt><span>valid_max :</span></dt><dd>10000.0</dd><dt><span>ancillary_variables :</span></dt><dd>SPAR_QC </dd><dt><span>data_mode :</span></dt><dd>R</dd><dt><span>comment :</span></dt><dd>SPAR/Surface Irradiance</dd><dt><span>coverage_content_type :</span></dt><dd>physicalMeasurement</dd></dl></div><div class='xr-var-data'><pre>[320 values with dtype=float32]</pre></div></li><li class='xr-var-item'><div class='xr-var-name'><span>PAR</span></div><div class='xr-var-dims'>(PRES)</div><div class='xr-var-dtype'>float32</div><div class='xr-var-preview xr-preview'>...</div><input id='attrs-2d3fb274-e7f7-459d-b8f5-db67eead3325' class='xr-var-attrs-in' type='checkbox' ><label for='attrs-2d3fb274-e7f7-459d-b8f5-db67eead3325' title='Show/Hide attributes'><svg class='icon xr-icon-file-text2'><use xlink:href='#icon-file-text2'></use></svg></label><input id='data-aa7d7972-ce86-4de5-a210-6f58dcf40084' class='xr-var-data-in' type='checkbox'><label for='data-aa7d7972-ce86-4de5-a210-6f58dcf40084' title='Show/Hide data repr'><svg class='icon xr-icon-database'><use xlink:href='#icon-database'></use></svg></label><div class='xr-var-attrs'><dl class='xr-attrs'><dt><span>standard_name :</span></dt><dd>&#x27;\\342\\200\\231</dd><dt><span>long_name :</span></dt><dd>Photosynthetically active radiation</dd><dt><span>units :</span></dt><dd>\\316\\274mol m-2 s-1</dd><dt><span>valid_min :</span></dt><dd>0.0</dd><dt><span>valid_max :</span></dt><dd>10000.0</dd><dt><span>ancillary_variables :</span></dt><dd>PAR_QC </dd><dt><span>data_mode :</span></dt><dd>R</dd><dt><span>comment :</span></dt><dd>PAR/Irradiance, Biospherical/Licor</dd><dt><span>coverage_content_type :</span></dt><dd>physicalMeasurement</dd></dl></div><div class='xr-var-data'><pre>[320 values with dtype=float32]</pre></div></li><li class='xr-var-item'><div class='xr-var-name'><span>PSAL-2</span></div><div class='xr-var-dims'>(PRES)</div><div class='xr-var-dtype'>float32</div><div class='xr-var-preview xr-preview'>...</div><input id='attrs-f9c6280f-920d-4869-b879-d4062f2d67b6' class='xr-var-attrs-in' type='checkbox' ><label for='attrs-f9c6280f-920d-4869-b879-d4062f2d67b6' title='Show/Hide attributes'><svg class='icon xr-icon-file-text2'><use xlink:href='#icon-file-text2'></use></svg></label><input id='data-58090e8e-c8a9-444d-9ea9-37a2326c4dd2' class='xr-var-data-in' type='checkbox'><label for='data-58090e8e-c8a9-444d-9ea9-37a2326c4dd2' title='Show/Hide data repr'><svg class='icon xr-icon-database'><use xlink:href='#icon-database'></use></svg></label><div class='xr-var-attrs'><dl class='xr-attrs'><dt><span>standard_name :</span></dt><dd>sea_water_practical_salinity</dd><dt><span>long_name :</span></dt><dd>Practical salinity</dd><dt><span>units :</span></dt><dd>0.001</dd><dt><span>valid_min :</span></dt><dd>2.0</dd><dt><span>valid_max :</span></dt><dd>40.0</dd><dt><span>ancillary_variables :</span></dt><dd>PSAL-2_QC </dd><dt><span>data_mode :</span></dt><dd>R</dd><dt><span>comment :</span></dt><dd>Salinity, 2 [PSU]</dd><dt><span>coverage_content_type :</span></dt><dd>physicalMeasurement</dd></dl></div><div class='xr-var-data'><pre>[320 values with dtype=float32]</pre></div></li><li class='xr-var-item'><div class='xr-var-name'><span>TEMP-2</span></div><div class='xr-var-dims'>(PRES)</div><div class='xr-var-dtype'>float32</div><div class='xr-var-preview xr-preview'>...</div><input id='attrs-d135fb6a-08ae-4e80-a577-9683a7bcc31b' class='xr-var-attrs-in' type='checkbox' ><label for='attrs-d135fb6a-08ae-4e80-a577-9683a7bcc31b' title='Show/Hide attributes'><svg class='icon xr-icon-file-text2'><use xlink:href='#icon-file-text2'></use></svg></label><input id='data-8419b3f5-0f3e-4ab4-a234-72d8cc045692' class='xr-var-data-in' type='checkbox'><label for='data-8419b3f5-0f3e-4ab4-a234-72d8cc045692' title='Show/Hide data repr'><svg class='icon xr-icon-database'><use xlink:href='#icon-database'></use></svg></label><div class='xr-var-attrs'><dl class='xr-attrs'><dt><span>standard_name :</span></dt><dd>sea_water_temperature</dd><dt><span>long_name :</span></dt><dd>Sea temperature</dd><dt><span>units :</span></dt><dd>degrees_C</dd><dt><span>valid_min :</span></dt><dd>-2.5</dd><dt><span>valid_max :</span></dt><dd>40.0</dd><dt><span>ancillary_variables :</span></dt><dd>TEMP-2_QC </dd><dt><span>data_mode :</span></dt><dd>R</dd><dt><span>comment :</span></dt><dd>Temperature, 2 [ITS-68, deg C]</dd><dt><span>coverage_content_type :</span></dt><dd>physicalMeasurement</dd></dl></div><div class='xr-var-data'><pre>[320 values with dtype=float32]</pre></div></li><li class='xr-var-item'><div class='xr-var-name'><span>ATTNZS01</span></div><div class='xr-var-dims'>(PRES)</div><div class='xr-var-dtype'>float32</div><div class='xr-var-preview xr-preview'>...</div><input id='attrs-9a5ca141-ed89-4948-8fbe-486eb0fde327' class='xr-var-attrs-in' type='checkbox' ><label for='attrs-9a5ca141-ed89-4948-8fbe-486eb0fde327' title='Show/Hide attributes'><svg class='icon xr-icon-file-text2'><use xlink:href='#icon-file-text2'></use></svg></label><input id='data-03d2acac-c49f-4c65-8cfd-9e272280c594' class='xr-var-data-in' type='checkbox'><label for='data-03d2acac-c49f-4c65-8cfd-9e272280c594' title='Show/Hide data repr'><svg class='icon xr-icon-database'><use xlink:href='#icon-database'></use></svg></label><div class='xr-var-attrs'><dl class='xr-attrs'><dt><span>standard_name :</span></dt><dd>&#x27;\\342\\200\\231</dd><dt><span>long_name :</span></dt><dd>WET Labs transmissometer calibrated to zero in clear water</dd><dt><span>units :</span></dt><dd>%</dd><dt><span>valid_min :</span></dt><dd>0.0</dd><dt><span>valid_max :</span></dt><dd>100.0</dd><dt><span>ancillary_variables :</span></dt><dd>ATTNZS01_QC </dd><dt><span>data_mode :</span></dt><dd>R</dd><dt><span>comment :</span></dt><dd>Beam Transmission, WET Labs C-Star [%]</dd><dt><span>coverage_content_type :</span></dt><dd>physicalMeasurement</dd></dl></div><div class='xr-var-data'><pre>[320 values with dtype=float32]</pre></div></li><li class='xr-var-item'><div class='xr-var-name'><span>TEMP_QC</span></div><div class='xr-var-dims'>(PRES)</div><div class='xr-var-dtype'>float32</div><div class='xr-var-preview xr-preview'>...</div><input id='attrs-ef19d786-469a-4113-806f-9461f06eee99' class='xr-var-attrs-in' type='checkbox' ><label for='attrs-ef19d786-469a-4113-806f-9461f06eee99' title='Show/Hide attributes'><svg class='icon xr-icon-file-text2'><use xlink:href='#icon-file-text2'></use></svg></label><input id='data-685235a0-76b3-44b2-8201-cf49383e75de' class='xr-var-data-in' type='checkbox'><label for='data-685235a0-76b3-44b2-8201-cf49383e75de' title='Show/Hide data repr'><svg class='icon xr-icon-database'><use xlink:href='#icon-database'></use></svg></label><div class='xr-var-attrs'><dl class='xr-attrs'><dt><span>conventions :</span></dt><dd>Copernicus Marine In Situ reference table 2</dd><dt><span>valid_min :</span></dt><dd>0</dd><dt><span>valid_max :</span></dt><dd>9</dd><dt><span>flag_values :</span></dt><dd>[0 1 2 3 4 5 6 7 8 9]</dd><dt><span>flag_meanings :</span></dt><dd>no_qc_performed good_data probably_good_data bad_data_that_are_potentially_correctable bad_data value_changed value_below_detection nominal_value interpolated_value missing_value</dd><dt><span>long_name :</span></dt><dd>Sea temperature quality flag</dd></dl></div><div class='xr-var-data'><pre>[320 values with dtype=float32]</pre></div></li><li class='xr-var-item'><div class='xr-var-name'><span>PSAL_QC</span></div><div class='xr-var-dims'>(PRES)</div><div class='xr-var-dtype'>float32</div><div class='xr-var-preview xr-preview'>...</div><input id='attrs-20d2bc9f-878c-43a6-a162-d5e8f92118cf' class='xr-var-attrs-in' type='checkbox' ><label for='attrs-20d2bc9f-878c-43a6-a162-d5e8f92118cf' title='Show/Hide attributes'><svg class='icon xr-icon-file-text2'><use xlink:href='#icon-file-text2'></use></svg></label><input id='data-47f49647-efd1-4f07-b8dc-5bb331d45ac5' class='xr-var-data-in' type='checkbox'><label for='data-47f49647-efd1-4f07-b8dc-5bb331d45ac5' title='Show/Hide data repr'><svg class='icon xr-icon-database'><use xlink:href='#icon-database'></use></svg></label><div class='xr-var-attrs'><dl class='xr-attrs'><dt><span>conventions :</span></dt><dd>Copernicus Marine In Situ reference table 2</dd><dt><span>valid_min :</span></dt><dd>0</dd><dt><span>valid_max :</span></dt><dd>9</dd><dt><span>flag_values :</span></dt><dd>[0 1 2 3 4 5 6 7 8 9]</dd><dt><span>flag_meanings :</span></dt><dd>no_qc_performed good_data probably_good_data bad_data_that_are_potentially_correctable bad_data value_changed value_below_detection nominal_value interpolated_value missing_value</dd><dt><span>long_name :</span></dt><dd>Practical salinity quality flag</dd></dl></div><div class='xr-var-data'><pre>[320 values with dtype=float32]</pre></div></li><li class='xr-var-item'><div class='xr-var-name'><span>FLU2_QC</span></div><div class='xr-var-dims'>(PRES)</div><div class='xr-var-dtype'>float32</div><div class='xr-var-preview xr-preview'>...</div><input id='attrs-26e84454-a24e-454e-abec-658ab0a431bc' class='xr-var-attrs-in' type='checkbox' ><label for='attrs-26e84454-a24e-454e-abec-658ab0a431bc' title='Show/Hide attributes'><svg class='icon xr-icon-file-text2'><use xlink:href='#icon-file-text2'></use></svg></label><input id='data-6a792af6-4a66-43a4-89c7-34f40f333fb2' class='xr-var-data-in' type='checkbox'><label for='data-6a792af6-4a66-43a4-89c7-34f40f333fb2' title='Show/Hide data repr'><svg class='icon xr-icon-database'><use xlink:href='#icon-database'></use></svg></label><div class='xr-var-attrs'><dl class='xr-attrs'><dt><span>conventions :</span></dt><dd>Copernicus Marine In Situ reference table 2</dd><dt><span>valid_min :</span></dt><dd>0</dd><dt><span>valid_max :</span></dt><dd>9</dd><dt><span>flag_values :</span></dt><dd>[0 1 2 3 4 5 6 7 8 9]</dd><dt><span>flag_meanings :</span></dt><dd>no_qc_performed good_data probably_good_data bad_data_that_are_potentially_correctable bad_data value_changed value_below_detection nominal_value interpolated_value missing_value</dd><dt><span>long_name :</span></dt><dd>Chlorophyll-a fluorescence quality flag</dd></dl></div><div class='xr-var-data'><pre>[320 values with dtype=float32]</pre></div></li><li class='xr-var-item'><div class='xr-var-name'><span>CNDC_QC</span></div><div class='xr-var-dims'>(PRES)</div><div class='xr-var-dtype'>float32</div><div class='xr-var-preview xr-preview'>...</div><input id='attrs-15d56fd3-4480-44a1-99a5-fddeef7f10e1' class='xr-var-attrs-in' type='checkbox' ><label for='attrs-15d56fd3-4480-44a1-99a5-fddeef7f10e1' title='Show/Hide attributes'><svg class='icon xr-icon-file-text2'><use xlink:href='#icon-file-text2'></use></svg></label><input id='data-f2b5142b-0f57-41cc-ada2-6ed06b03184c' class='xr-var-data-in' type='checkbox'><label for='data-f2b5142b-0f57-41cc-ada2-6ed06b03184c' title='Show/Hide data repr'><svg class='icon xr-icon-database'><use xlink:href='#icon-database'></use></svg></label><div class='xr-var-attrs'><dl class='xr-attrs'><dt><span>conventions :</span></dt><dd>Copernicus Marine In Situ reference table 2</dd><dt><span>valid_min :</span></dt><dd>0</dd><dt><span>valid_max :</span></dt><dd>9</dd><dt><span>flag_values :</span></dt><dd>[0 1 2 3 4 5 6 7 8 9]</dd><dt><span>flag_meanings :</span></dt><dd>no_qc_performed good_data probably_good_data bad_data_that_are_potentially_correctable bad_data value_changed value_below_detection nominal_value interpolated_value missing_value</dd><dt><span>long_name :</span></dt><dd>Electrical conductivity quality flag</dd></dl></div><div class='xr-var-data'><pre>[320 values with dtype=float32]</pre></div></li><li class='xr-var-item'><div class='xr-var-name'><span>DENS_QC</span></div><div class='xr-var-dims'>(PRES)</div><div class='xr-var-dtype'>float32</div><div class='xr-var-preview xr-preview'>...</div><input id='attrs-6b3d1f7b-44c9-4d3d-9b31-48d742cb7427' class='xr-var-attrs-in' type='checkbox' ><label for='attrs-6b3d1f7b-44c9-4d3d-9b31-48d742cb7427' title='Show/Hide attributes'><svg class='icon xr-icon-file-text2'><use xlink:href='#icon-file-text2'></use></svg></label><input id='data-fa8a1931-add2-4ea3-ad65-42b7be0f785e' class='xr-var-data-in' type='checkbox'><label for='data-fa8a1931-add2-4ea3-ad65-42b7be0f785e' title='Show/Hide data repr'><svg class='icon xr-icon-database'><use xlink:href='#icon-database'></use></svg></label><div class='xr-var-attrs'><dl class='xr-attrs'><dt><span>conventions :</span></dt><dd>Copernicus Marine In Situ reference table 2</dd><dt><span>valid_min :</span></dt><dd>0</dd><dt><span>valid_max :</span></dt><dd>9</dd><dt><span>flag_values :</span></dt><dd>[0 1 2 3 4 5 6 7 8 9]</dd><dt><span>flag_meanings :</span></dt><dd>no_qc_performed good_data probably_good_data bad_data_that_are_potentially_correctable bad_data value_changed value_below_detection nominal_value interpolated_value missing_value</dd><dt><span>long_name :</span></dt><dd>Sea density (sigma-theta) quality flag</dd></dl></div><div class='xr-var-data'><pre>[320 values with dtype=float32]</pre></div></li><li class='xr-var-item'><div class='xr-var-name'><span>SVEL_QC</span></div><div class='xr-var-dims'>(PRES)</div><div class='xr-var-dtype'>float32</div><div class='xr-var-preview xr-preview'>...</div><input id='attrs-704179c6-2b80-44b4-8e54-28e99748d695' class='xr-var-attrs-in' type='checkbox' ><label for='attrs-704179c6-2b80-44b4-8e54-28e99748d695' title='Show/Hide attributes'><svg class='icon xr-icon-file-text2'><use xlink:href='#icon-file-text2'></use></svg></label><input id='data-5543d9f2-e95d-40bc-8d0b-8df34b626f63' class='xr-var-data-in' type='checkbox'><label for='data-5543d9f2-e95d-40bc-8d0b-8df34b626f63' title='Show/Hide data repr'><svg class='icon xr-icon-database'><use xlink:href='#icon-database'></use></svg></label><div class='xr-var-attrs'><dl class='xr-attrs'><dt><span>conventions :</span></dt><dd>Copernicus Marine In Situ reference table 2</dd><dt><span>valid_min :</span></dt><dd>0</dd><dt><span>valid_max :</span></dt><dd>9</dd><dt><span>flag_values :</span></dt><dd>[0 1 2 3 4 5 6 7 8 9]</dd><dt><span>flag_meanings :</span></dt><dd>no_qc_performed good_data probably_good_data bad_data_that_are_potentially_correctable bad_data value_changed value_below_detection nominal_value interpolated_value missing_value</dd><dt><span>long_name :</span></dt><dd>Sound velocity quality flag</dd></dl></div><div class='xr-var-data'><pre>[320 values with dtype=float32]</pre></div></li><li class='xr-var-item'><div class='xr-var-name'><span>CCOMD003_QC</span></div><div class='xr-var-dims'>(PRES)</div><div class='xr-var-dtype'>float32</div><div class='xr-var-preview xr-preview'>...</div><input id='attrs-fefe52ae-a91a-4999-9050-5f910a1ea161' class='xr-var-attrs-in' type='checkbox' ><label for='attrs-fefe52ae-a91a-4999-9050-5f910a1ea161' title='Show/Hide attributes'><svg class='icon xr-icon-file-text2'><use xlink:href='#icon-file-text2'></use></svg></label><input id='data-20fdd916-e0d3-41d8-a0b4-a77b8e067cbd' class='xr-var-data-in' type='checkbox'><label for='data-20fdd916-e0d3-41d8-a0b4-a77b8e067cbd' title='Show/Hide data repr'><svg class='icon xr-icon-database'><use xlink:href='#icon-database'></use></svg></label><div class='xr-var-attrs'><dl class='xr-attrs'><dt><span>conventions :</span></dt><dd>Copernicus Marine In Situ reference table 2</dd><dt><span>valid_min :</span></dt><dd>0</dd><dt><span>valid_max :</span></dt><dd>9</dd><dt><span>flag_values :</span></dt><dd>[0 1 2 3 4 5 6 7 8 9]</dd><dt><span>flag_meanings :</span></dt><dd>no_qc_performed good_data probably_good_data bad_data_that_are_potentially_correctable bad_data value_changed value_below_detection nominal_value interpolated_value missing_value</dd><dt><span>long_name :</span></dt><dd>CDOM Gelbstoff per unit volume of the water body by in-situ fluorometer quality flag</dd></dl></div><div class='xr-var-data'><pre>[320 values with dtype=float32]</pre></div></li><li class='xr-var-item'><div class='xr-var-name'><span>DOX1-1_QC</span></div><div class='xr-var-dims'>(PRES)</div><div class='xr-var-dtype'>float32</div><div class='xr-var-preview xr-preview'>...</div><input id='attrs-6818e1dc-e7fc-457b-8754-77dde47edb0d' class='xr-var-attrs-in' type='checkbox' ><label for='attrs-6818e1dc-e7fc-457b-8754-77dde47edb0d' title='Show/Hide attributes'><svg class='icon xr-icon-file-text2'><use xlink:href='#icon-file-text2'></use></svg></label><input id='data-f1fefaf8-7086-4a67-82a7-1fcafdbef212' class='xr-var-data-in' type='checkbox'><label for='data-f1fefaf8-7086-4a67-82a7-1fcafdbef212' title='Show/Hide data repr'><svg class='icon xr-icon-database'><use xlink:href='#icon-database'></use></svg></label><div class='xr-var-attrs'><dl class='xr-attrs'><dt><span>conventions :</span></dt><dd>Copernicus Marine In Situ reference table 2</dd><dt><span>valid_min :</span></dt><dd>0</dd><dt><span>valid_max :</span></dt><dd>9</dd><dt><span>flag_values :</span></dt><dd>[0 1 2 3 4 5 6 7 8 9]</dd><dt><span>flag_meanings :</span></dt><dd>no_qc_performed good_data probably_good_data bad_data_that_are_potentially_correctable bad_data value_changed value_below_detection nominal_value interpolated_value missing_value</dd><dt><span>long_name :</span></dt><dd>Dissolved oxygen quality flag</dd></dl></div><div class='xr-var-data'><pre>[320 values with dtype=float32]</pre></div></li><li class='xr-var-item'><div class='xr-var-name'><span>DOX2-1_QC</span></div><div class='xr-var-dims'>(PRES)</div><div class='xr-var-dtype'>float32</div><div class='xr-var-preview xr-preview'>...</div><input id='attrs-b7cc57ba-ff3b-4eee-8e5d-0e7edb0c3c94' class='xr-var-attrs-in' type='checkbox' ><label for='attrs-b7cc57ba-ff3b-4eee-8e5d-0e7edb0c3c94' title='Show/Hide attributes'><svg class='icon xr-icon-file-text2'><use xlink:href='#icon-file-text2'></use></svg></label><input id='data-c8577f07-1381-4e4a-a6ca-57962e02537d' class='xr-var-data-in' type='checkbox'><label for='data-c8577f07-1381-4e4a-a6ca-57962e02537d' title='Show/Hide data repr'><svg class='icon xr-icon-database'><use xlink:href='#icon-database'></use></svg></label><div class='xr-var-attrs'><dl class='xr-attrs'><dt><span>conventions :</span></dt><dd>Copernicus Marine In Situ reference table 2</dd><dt><span>valid_min :</span></dt><dd>0</dd><dt><span>valid_max :</span></dt><dd>9</dd><dt><span>flag_values :</span></dt><dd>[0 1 2 3 4 5 6 7 8 9]</dd><dt><span>flag_meanings :</span></dt><dd>no_qc_performed good_data probably_good_data bad_data_that_are_potentially_correctable bad_data value_changed value_below_detection nominal_value interpolated_value missing_value</dd><dt><span>long_name :</span></dt><dd>Dissolved oxygen quality flag</dd></dl></div><div class='xr-var-data'><pre>[320 values with dtype=float32]</pre></div></li><li class='xr-var-item'><div class='xr-var-name'><span>CNDC-2_QC</span></div><div class='xr-var-dims'>(PRES)</div><div class='xr-var-dtype'>float32</div><div class='xr-var-preview xr-preview'>...</div><input id='attrs-487612e5-2273-4d55-97d1-a1ad6216e3b2' class='xr-var-attrs-in' type='checkbox' ><label for='attrs-487612e5-2273-4d55-97d1-a1ad6216e3b2' title='Show/Hide attributes'><svg class='icon xr-icon-file-text2'><use xlink:href='#icon-file-text2'></use></svg></label><input id='data-179d8eb3-e6d8-47d4-8b03-fb764f17bd72' class='xr-var-data-in' type='checkbox'><label for='data-179d8eb3-e6d8-47d4-8b03-fb764f17bd72' title='Show/Hide data repr'><svg class='icon xr-icon-database'><use xlink:href='#icon-database'></use></svg></label><div class='xr-var-attrs'><dl class='xr-attrs'><dt><span>conventions :</span></dt><dd>Copernicus Marine In Situ reference table 2</dd><dt><span>valid_min :</span></dt><dd>0</dd><dt><span>valid_max :</span></dt><dd>9</dd><dt><span>flag_values :</span></dt><dd>[0 1 2 3 4 5 6 7 8 9]</dd><dt><span>flag_meanings :</span></dt><dd>no_qc_performed good_data probably_good_data bad_data_that_are_potentially_correctable bad_data value_changed value_below_detection nominal_value interpolated_value missing_value</dd><dt><span>long_name :</span></dt><dd>Electrical conductivity quality flag</dd></dl></div><div class='xr-var-data'><pre>[320 values with dtype=float32]</pre></div></li><li class='xr-var-item'><div class='xr-var-name'><span>OXYOCPVL-1_QC</span></div><div class='xr-var-dims'>(PRES)</div><div class='xr-var-dtype'>float32</div><div class='xr-var-preview xr-preview'>...</div><input id='attrs-36dac568-8dc3-42bf-8d5e-d12ea87b6738' class='xr-var-attrs-in' type='checkbox' ><label for='attrs-36dac568-8dc3-42bf-8d5e-d12ea87b6738' title='Show/Hide attributes'><svg class='icon xr-icon-file-text2'><use xlink:href='#icon-file-text2'></use></svg></label><input id='data-ab2eea55-06ae-450c-a8cc-266797a5dfbd' class='xr-var-data-in' type='checkbox'><label for='data-ab2eea55-06ae-450c-a8cc-266797a5dfbd' title='Show/Hide data repr'><svg class='icon xr-icon-database'><use xlink:href='#icon-database'></use></svg></label><div class='xr-var-attrs'><dl class='xr-attrs'><dt><span>conventions :</span></dt><dd>Copernicus Marine In Situ reference table 2</dd><dt><span>valid_min :</span></dt><dd>0</dd><dt><span>valid_max :</span></dt><dd>9</dd><dt><span>flag_values :</span></dt><dd>[0 1 2 3 4 5 6 7 8 9]</dd><dt><span>flag_meanings :</span></dt><dd>no_qc_performed good_data probably_good_data bad_data_that_are_potentially_correctable bad_data value_changed value_below_detection nominal_value interpolated_value missing_value</dd><dt><span>long_name :</span></dt><dd>Raw signal (voltage) of instrument output by oxygen senso quality flag</dd></dl></div><div class='xr-var-data'><pre>[320 values with dtype=float32]</pre></div></li><li class='xr-var-item'><div class='xr-var-name'><span>SPAR_QC</span></div><div class='xr-var-dims'>(PRES)</div><div class='xr-var-dtype'>float32</div><div class='xr-var-preview xr-preview'>...</div><input id='attrs-ff817582-9b3e-43f6-88de-0904ff8316ac' class='xr-var-attrs-in' type='checkbox' ><label for='attrs-ff817582-9b3e-43f6-88de-0904ff8316ac' title='Show/Hide attributes'><svg class='icon xr-icon-file-text2'><use xlink:href='#icon-file-text2'></use></svg></label><input id='data-055a401a-9623-4c84-95ee-69e93e693b14' class='xr-var-data-in' type='checkbox'><label for='data-055a401a-9623-4c84-95ee-69e93e693b14' title='Show/Hide data repr'><svg class='icon xr-icon-database'><use xlink:href='#icon-database'></use></svg></label><div class='xr-var-attrs'><dl class='xr-attrs'><dt><span>conventions :</span></dt><dd>Copernicus Marine In Situ reference table 2</dd><dt><span>valid_min :</span></dt><dd>0</dd><dt><span>valid_max :</span></dt><dd>9</dd><dt><span>flag_values :</span></dt><dd>[0 1 2 3 4 5 6 7 8 9]</dd><dt><span>flag_meanings :</span></dt><dd>no_qc_performed good_data probably_good_data bad_data_that_are_potentially_correctable bad_data value_changed value_below_detection nominal_value interpolated_value missing_value</dd><dt><span>long_name :</span></dt><dd>Photosynthetically active radiation quality flag</dd></dl></div><div class='xr-var-data'><pre>[320 values with dtype=float32]</pre></div></li><li class='xr-var-item'><div class='xr-var-name'><span>PAR_QC</span></div><div class='xr-var-dims'>(PRES)</div><div class='xr-var-dtype'>float32</div><div class='xr-var-preview xr-preview'>...</div><input id='attrs-b5e706c7-aef8-44e5-adfc-00d1cda54512' class='xr-var-attrs-in' type='checkbox' ><label for='attrs-b5e706c7-aef8-44e5-adfc-00d1cda54512' title='Show/Hide attributes'><svg class='icon xr-icon-file-text2'><use xlink:href='#icon-file-text2'></use></svg></label><input id='data-a8c66d5e-cd45-4865-8999-5189ed9d0ae2' class='xr-var-data-in' type='checkbox'><label for='data-a8c66d5e-cd45-4865-8999-5189ed9d0ae2' title='Show/Hide data repr'><svg class='icon xr-icon-database'><use xlink:href='#icon-database'></use></svg></label><div class='xr-var-attrs'><dl class='xr-attrs'><dt><span>conventions :</span></dt><dd>Copernicus Marine In Situ reference table 2</dd><dt><span>valid_min :</span></dt><dd>0</dd><dt><span>valid_max :</span></dt><dd>9</dd><dt><span>flag_values :</span></dt><dd>[0 1 2 3 4 5 6 7 8 9]</dd><dt><span>flag_meanings :</span></dt><dd>no_qc_performed good_data probably_good_data bad_data_that_are_potentially_correctable bad_data value_changed value_below_detection nominal_value interpolated_value missing_value</dd><dt><span>long_name :</span></dt><dd>Photosynthetically active radiation quality flag</dd></dl></div><div class='xr-var-data'><pre>[320 values with dtype=float32]</pre></div></li><li class='xr-var-item'><div class='xr-var-name'><span>PSAL-2_QC</span></div><div class='xr-var-dims'>(PRES)</div><div class='xr-var-dtype'>float32</div><div class='xr-var-preview xr-preview'>...</div><input id='attrs-191d888f-db61-4e49-9c9e-c5e9bc873d89' class='xr-var-attrs-in' type='checkbox' ><label for='attrs-191d888f-db61-4e49-9c9e-c5e9bc873d89' title='Show/Hide attributes'><svg class='icon xr-icon-file-text2'><use xlink:href='#icon-file-text2'></use></svg></label><input id='data-3a7ba7ea-9cef-40a4-986a-9adbbad33fd1' class='xr-var-data-in' type='checkbox'><label for='data-3a7ba7ea-9cef-40a4-986a-9adbbad33fd1' title='Show/Hide data repr'><svg class='icon xr-icon-database'><use xlink:href='#icon-database'></use></svg></label><div class='xr-var-attrs'><dl class='xr-attrs'><dt><span>conventions :</span></dt><dd>Copernicus Marine In Situ reference table 2</dd><dt><span>valid_min :</span></dt><dd>0</dd><dt><span>valid_max :</span></dt><dd>9</dd><dt><span>flag_values :</span></dt><dd>[0 1 2 3 4 5 6 7 8 9]</dd><dt><span>flag_meanings :</span></dt><dd>no_qc_performed good_data probably_good_data bad_data_that_are_potentially_correctable bad_data value_changed value_below_detection nominal_value interpolated_value missing_value</dd><dt><span>long_name :</span></dt><dd>Practical salinity quality flag</dd></dl></div><div class='xr-var-data'><pre>[320 values with dtype=float32]</pre></div></li><li class='xr-var-item'><div class='xr-var-name'><span>TEMP-2_QC</span></div><div class='xr-var-dims'>(PRES)</div><div class='xr-var-dtype'>float32</div><div class='xr-var-preview xr-preview'>...</div><input id='attrs-8f7adcbf-85b6-4903-83bd-19a03a6c958f' class='xr-var-attrs-in' type='checkbox' ><label for='attrs-8f7adcbf-85b6-4903-83bd-19a03a6c958f' title='Show/Hide attributes'><svg class='icon xr-icon-file-text2'><use xlink:href='#icon-file-text2'></use></svg></label><input id='data-1c22eea2-7a78-403d-a999-595c5ac4badf' class='xr-var-data-in' type='checkbox'><label for='data-1c22eea2-7a78-403d-a999-595c5ac4badf' title='Show/Hide data repr'><svg class='icon xr-icon-database'><use xlink:href='#icon-database'></use></svg></label><div class='xr-var-attrs'><dl class='xr-attrs'><dt><span>conventions :</span></dt><dd>Copernicus Marine In Situ reference table 2</dd><dt><span>valid_min :</span></dt><dd>0</dd><dt><span>valid_max :</span></dt><dd>9</dd><dt><span>flag_values :</span></dt><dd>[0 1 2 3 4 5 6 7 8 9]</dd><dt><span>flag_meanings :</span></dt><dd>no_qc_performed good_data probably_good_data bad_data_that_are_potentially_correctable bad_data value_changed value_below_detection nominal_value interpolated_value missing_value</dd><dt><span>long_name :</span></dt><dd>Sea temperature quality flag</dd></dl></div><div class='xr-var-data'><pre>[320 values with dtype=float32]</pre></div></li><li class='xr-var-item'><div class='xr-var-name'><span>ATTNZS01_QC</span></div><div class='xr-var-dims'>(PRES)</div><div class='xr-var-dtype'>float32</div><div class='xr-var-preview xr-preview'>...</div><input id='attrs-c1f22fc7-a27d-44fb-bb8f-3be8777d79ab' class='xr-var-attrs-in' type='checkbox' ><label for='attrs-c1f22fc7-a27d-44fb-bb8f-3be8777d79ab' title='Show/Hide attributes'><svg class='icon xr-icon-file-text2'><use xlink:href='#icon-file-text2'></use></svg></label><input id='data-d7756176-80c6-4b56-97d3-828186421ef5' class='xr-var-data-in' type='checkbox'><label for='data-d7756176-80c6-4b56-97d3-828186421ef5' title='Show/Hide data repr'><svg class='icon xr-icon-database'><use xlink:href='#icon-database'></use></svg></label><div class='xr-var-attrs'><dl class='xr-attrs'><dt><span>conventions :</span></dt><dd>Copernicus Marine In Situ reference table 2</dd><dt><span>valid_min :</span></dt><dd>0</dd><dt><span>valid_max :</span></dt><dd>9</dd><dt><span>flag_values :</span></dt><dd>[0 1 2 3 4 5 6 7 8 9]</dd><dt><span>flag_meanings :</span></dt><dd>no_qc_performed good_data probably_good_data bad_data_that_are_potentially_correctable bad_data value_changed value_below_detection nominal_value interpolated_value missing_value</dd><dt><span>long_name :</span></dt><dd>WET Labs transmissometer calibrated to zero in clear water quality flag</dd></dl></div><div class='xr-var-data'><pre>[320 values with dtype=float32]</pre></div></li></ul></div></li><li class='xr-section-item'><input id='section-32920051-63e5-42da-a13b-9b13e658eb6c' class='xr-section-summary-in' type='checkbox'  ><label for='section-32920051-63e5-42da-a13b-9b13e658eb6c' class='xr-section-summary' >Indexes: <span>(1)</span></label><div class='xr-section-inline-details'></div><div class='xr-section-details'><ul class='xr-var-list'><li class='xr-var-item'><div class='xr-index-name'><div>PRES</div></div><div class='xr-index-preview'>PandasIndex</div><div></div><input id='index-f7f58ef6-237a-462e-b275-bcd5c332115c' class='xr-index-data-in' type='checkbox'/><label for='index-f7f58ef6-237a-462e-b275-bcd5c332115c' title='Show/Hide index repr'><svg class='icon xr-icon-database'><use xlink:href='#icon-database'></use></svg></label><div class='xr-index-data'><pre>PandasIndex(Index([  1.0,   2.0,   3.0,   4.0,   5.0,   6.0,   7.0,   8.0,   9.0,  10.0,\n",
              "       ...\n",
              "       311.0, 312.0, 313.0, 314.0, 315.0, 316.0, 317.0, 318.0, 319.0, 320.0],\n",
              "      dtype=&#x27;float32&#x27;, name=&#x27;PRES&#x27;, length=320))</pre></div></li></ul></div></li><li class='xr-section-item'><input id='section-c7ace273-7848-4a1e-b635-5fc18cf384b8' class='xr-section-summary-in' type='checkbox'  ><label for='section-c7ace273-7848-4a1e-b635-5fc18cf384b8' class='xr-section-summary' >Attributes: <span>(73)</span></label><div class='xr-section-inline-details'></div><div class='xr-section-details'><dl class='xr-attrs'><dt><span>qc_manual :</span></dt><dd>Recommendations for in-situ data Near Real Time Quality Control https://doi.org/10.13155/36230</dd><dt><span>contact :</span></dt><dd>datahjelp@hi.no</dd><dt><span>distribution_statement :</span></dt><dd>These data are public and free of charge. User assumes all risk for use of data. User must display citation in any publication or product using data. User must contact PI prior to any commercial use of data.</dd><dt><span>naming_authority :</span></dt><dd>no.unis</dd><dt><span>license :</span></dt><dd>https://creativecommons.org/licenses/by/4.0/ https://creativecommons.org/licenses/by/4.0/</dd><dt><span>data_assembly_center :</span></dt><dd>IMR</dd><dt><span>update_interval :</span></dt><dd>void</dd><dt><span>area :</span></dt><dd>Arctic Ocean</dd><dt><span>author :</span></dt><dd></dd><dt><span>Conventions :</span></dt><dd>CF-1.8, ACDD-1.3, OceanSITES Manual 1.4</dd><dt><span>data_mode :</span></dt><dd>M</dd><dt><span>comment :</span></dt><dd>Descending CTD profile</dd><dt><span>history :</span></dt><dd>Created at 2022-08-08T12:43:51Z using the xarray library in Python</dd><dt><span>netcdf_version :</span></dt><dd>netCDF-4 classic model</dd><dt><span>quality_index :</span></dt><dd>A</dd><dt><span>quality_control_indicator :</span></dt><dd>0</dd><dt><span>publisher_name :</span></dt><dd>Elisabeth Jones</dd><dt><span>publisher_email :</span></dt><dd>datahjelp@imr.no</dd><dt><span>wmo_platform_code :</span></dt><dd></dd><dt><span>ices_platform_code :</span></dt><dd></dd><dt><span>site_code :</span></dt><dd></dd><dt><span>bottom_depth :</span></dt><dd></dd><dt><span>wmo_inst_type :</span></dt><dd></dd><dt><span>geospatial_vertical_positive :</span></dt><dd>down</dd><dt><span>platform_code :</span></dt><dd>58US</dd><dt><span>platform_name :</span></dt><dd>Kronprins Haakon</dd><dt><span>source :</span></dt><dd>research vessel</dd><dt><span>institution_country :</span></dt><dd>Norway</dd><dt><span>source_platform_category_code :</span></dt><dd>31</dd><dt><span>data_type :</span></dt><dd>OceanSITES vertical profile</dd><dt><span>cdm_data_type :</span></dt><dd>PROFILE</dd><dt><span>instrument :</span></dt><dd>CTD Seabird</dd><dt><span>keywords :</span></dt><dd>EARTH SCIENCE &gt; OCEANS &gt; OCEAN OPTICS &gt; FLUORESCENCE, EARTH SCIENCE &gt; OCEANS &gt; SALINITY/DENSITY &gt; DENSITY, EARTH SCIENCE &gt; OCEANS &gt; SALINITY/DENSITY &gt; OCEAN SALINITY, EARTH SCIENCE &gt; OCEANS &gt; OCEAN ACOUSTICS &gt; ACOUSTIC VELOCITY, EARTH SCIENCE &gt; OCEANS &gt; OCEAN TEMPERATURE &gt; WATER TEMPERATURE, EARTH SCIENCE &gt; OCEANS &gt; SALINITY/DENSITY &gt; CONDUCTIVITY</dd><dt><span>keywords_vocabulary :</span></dt><dd>GCMD:GCMD Keywords</dd><dt><span>id :</span></dt><dd>NMDC_Nansen-Legacy_PR_CT_58US_2021708_P1_(NLEG01)</dd><dt><span>time_coverage_start :</span></dt><dd>2021-07-14T08:14:43Z</dd><dt><span>time_coverage_end :</span></dt><dd>2021-07-14T08:14:43Z</dd><dt><span>date_update :</span></dt><dd>2022-08-08T12:43:51Z</dd><dt><span>geospatial_lat_min :</span></dt><dd>76.0</dd><dt><span>geospatial_lat_max :</span></dt><dd>76.0</dd><dt><span>geospatial_lon_min :</span></dt><dd>31.2197</dd><dt><span>geospatial_lon_max :</span></dt><dd>31.2197</dd><dt><span>geospatial_vertical_min :</span></dt><dd>1.0</dd><dt><span>geospatial_vertical_max :</span></dt><dd>321.0</dd><dt><span>citation :</span></dt><dd>These data were collected and made freely available by the Nansen Legacy project and the programs that contribute to it.</dd><dt><span>project :</span></dt><dd>The Nansen Legacy Project (RCN # 276730)</dd><dt><span>references :</span></dt><dd>https://doi.org/10.21335/NMDC-2085836005</dd><dt><span>featureType :</span></dt><dd>Profile</dd><dt><span>summary :</span></dt><dd>The Joint Cruise 2-1 addressed objectives of the work packages Physical drivers (Research Foci 1), Human impact (Research Foci 2) and The living Barents Sea (Research Foci 3) along the Nansen Legacy transect in open water and within the sea ice. The cruise focussed on comparing the state of the physical, chemical and biological conditions in the southern and northern parts of the study area. These data are created from the CTD data published by NMDC for the whole cruise (https://doi.org/10.21335/NMDC-2085836005). The values have not be changed.</dd><dt><span>pi_name :</span></dt><dd>Elizabeth Jones</dd><dt><span>institution :</span></dt><dd>Institute of Marine Research</dd><dt><span>institution_edmo_code :</span></dt><dd>1351</dd><dt><span>institution_references :</span></dt><dd>https://www.hi.no/hi</dd><dt><span>creator_institution :</span></dt><dd>Institute of Marine Research</dd><dt><span>creator_name :</span></dt><dd>Elisabeth Jones</dd><dt><span>creator_type :</span></dt><dd>person</dd><dt><span>creator_email :</span></dt><dd>datahjelp@imr.no</dd><dt><span>creator_url :</span></dt><dd>https://www.hi.no/hi</dd><dt><span>publisher :</span></dt><dd>The Norwegian Marine Data Centre (NMD)</dd><dt><span>publisher_url :</span></dt><dd>https://www.hi.no/hi</dd><dt><span>acknowledgement :</span></dt><dd>The Nansen Legacy project is funded by the Research Council of Norway (RCN # 276730). These data are created from the CTD data published by NMDC for the whole cruise (10.21335/NMDC-2085836005). The values have not be changed. For information about this process, please contact Luke Marsden at data.nleg@unis.no</dd><dt><span>cruiseNumber :</span></dt><dd>2021708</dd><dt><span>cruiseName :</span></dt><dd>2021 Joint Cruise 2-1</dd><dt><span>geospatial_vertical_units :</span></dt><dd>dbar</dd><dt><span>geospatial_vertical_resolution :</span></dt><dd>1 dbar</dd><dt><span>pi_email :</span></dt><dd>elizabeth.jones@hi.no</dd><dt><span>pi_institution :</span></dt><dd>Institute of Marine Research</dd><dt><span>station_name :</span></dt><dd>P1 (NLEG01)</dd><dt><span>_NCProperties :</span></dt><dd>version=2,netcdf=4.6.3,hdf5=1.10.5</dd><dt><span>date_created :</span></dt><dd>2022-08-08T12:44:34Z</dd><dt><span>doi :</span></dt><dd>10.21335/NMDC-2085836005-P1_NLEG01-1</dd><dt><span>title :</span></dt><dd>CTD_station_P1_NLEG01-1_-_Nansen_Legacy_Cruise_-_2021_Joint_Cruise_2-1</dd><dt><span>metadata_link :</span></dt><dd>https://doi.org/10.21335/NMDC-2085836005-P1_NLEG01-1</dd></dl></div></li></ul></div></div>"
            ]
          },
          "metadata": {},
          "execution_count": 4
        }
      ]
    },
    {
      "cell_type": "code",
      "source": [
        "#display attributes in dictionary format\n",
        "xrds.attrs"
      ],
      "metadata": {
        "colab": {
          "base_uri": "https://localhost:8080/"
        },
        "id": "sViAthPjRccP",
        "outputId": "4efb7838-405e-4a13-b0b1-fddcc84f6ff8"
      },
      "execution_count": 5,
      "outputs": [
        {
          "output_type": "execute_result",
          "data": {
            "text/plain": [
              "{'qc_manual': 'Recommendations for in-situ data Near Real Time Quality Control https://doi.org/10.13155/36230',\n",
              " 'contact': 'datahjelp@hi.no',\n",
              " 'distribution_statement': 'These data are public and free of charge. User assumes all risk for use of data. User must display citation in any publication or product using data. User must contact PI prior to any commercial use of data.',\n",
              " 'naming_authority': 'no.unis',\n",
              " 'license': 'https://creativecommons.org/licenses/by/4.0/ https://creativecommons.org/licenses/by/4.0/',\n",
              " 'data_assembly_center': 'IMR',\n",
              " 'update_interval': 'void',\n",
              " 'area': 'Arctic Ocean',\n",
              " 'author': '',\n",
              " 'Conventions': 'CF-1.8, ACDD-1.3, OceanSITES Manual 1.4',\n",
              " 'data_mode': 'M',\n",
              " 'comment': 'Descending CTD profile',\n",
              " 'history': 'Created at 2022-08-08T12:43:51Z using the xarray library in Python',\n",
              " 'netcdf_version': 'netCDF-4 classic model',\n",
              " 'quality_index': 'A',\n",
              " 'quality_control_indicator': '0',\n",
              " 'publisher_name': 'Elisabeth Jones',\n",
              " 'publisher_email': 'datahjelp@imr.no',\n",
              " 'wmo_platform_code': '',\n",
              " 'ices_platform_code': '',\n",
              " 'site_code': '',\n",
              " 'bottom_depth': '',\n",
              " 'wmo_inst_type': '',\n",
              " 'geospatial_vertical_positive': 'down',\n",
              " 'platform_code': '58US',\n",
              " 'platform_name': 'Kronprins Haakon',\n",
              " 'source': 'research vessel',\n",
              " 'institution_country': 'Norway',\n",
              " 'source_platform_category_code': '31',\n",
              " 'data_type': 'OceanSITES vertical profile',\n",
              " 'cdm_data_type': 'PROFILE',\n",
              " 'instrument': 'CTD Seabird',\n",
              " 'keywords': 'EARTH SCIENCE > OCEANS > OCEAN OPTICS > FLUORESCENCE, EARTH SCIENCE > OCEANS > SALINITY/DENSITY > DENSITY, EARTH SCIENCE > OCEANS > SALINITY/DENSITY > OCEAN SALINITY, EARTH SCIENCE > OCEANS > OCEAN ACOUSTICS > ACOUSTIC VELOCITY, EARTH SCIENCE > OCEANS > OCEAN TEMPERATURE > WATER TEMPERATURE, EARTH SCIENCE > OCEANS > SALINITY/DENSITY > CONDUCTIVITY',\n",
              " 'keywords_vocabulary': 'GCMD:GCMD Keywords',\n",
              " 'id': 'NMDC_Nansen-Legacy_PR_CT_58US_2021708_P1_(NLEG01)',\n",
              " 'time_coverage_start': '2021-07-14T08:14:43Z',\n",
              " 'time_coverage_end': '2021-07-14T08:14:43Z',\n",
              " 'date_update': '2022-08-08T12:43:51Z',\n",
              " 'geospatial_lat_min': 76.0,\n",
              " 'geospatial_lat_max': 76.0,\n",
              " 'geospatial_lon_min': 31.2197,\n",
              " 'geospatial_lon_max': 31.2197,\n",
              " 'geospatial_vertical_min': 1.0,\n",
              " 'geospatial_vertical_max': 321.0,\n",
              " 'citation': 'These data were collected and made freely available by the Nansen Legacy project and the programs that contribute to it.',\n",
              " 'project': 'The Nansen Legacy Project (RCN # 276730)',\n",
              " 'references': 'https://doi.org/10.21335/NMDC-2085836005',\n",
              " 'featureType': 'Profile',\n",
              " 'summary': 'The Joint Cruise 2-1 addressed objectives of the work packages Physical drivers (Research Foci 1), Human impact (Research Foci 2) and The living Barents Sea (Research Foci 3) along the Nansen Legacy transect in open water and within the sea ice. The cruise focussed on comparing the state of the physical, chemical and biological conditions in the southern and northern parts of the study area. These data are created from the CTD data published by NMDC for the whole cruise (https://doi.org/10.21335/NMDC-2085836005). The values have not be changed.',\n",
              " 'pi_name': 'Elizabeth Jones',\n",
              " 'institution': 'Institute of Marine Research',\n",
              " 'institution_edmo_code': 1351,\n",
              " 'institution_references': 'https://www.hi.no/hi',\n",
              " 'creator_institution': 'Institute of Marine Research',\n",
              " 'creator_name': 'Elisabeth Jones',\n",
              " 'creator_type': 'person',\n",
              " 'creator_email': 'datahjelp@imr.no',\n",
              " 'creator_url': 'https://www.hi.no/hi',\n",
              " 'publisher': 'The Norwegian Marine Data Centre (NMD)',\n",
              " 'publisher_url': 'https://www.hi.no/hi',\n",
              " 'acknowledgement': 'The Nansen Legacy project is funded by the Research Council of Norway (RCN # 276730). These data are created from the CTD data published by NMDC for the whole cruise (10.21335/NMDC-2085836005). The values have not be changed. For information about this process, please contact Luke Marsden at data.nleg@unis.no',\n",
              " 'cruiseNumber': '2021708',\n",
              " 'cruiseName': '2021 Joint Cruise 2-1',\n",
              " 'geospatial_vertical_units': 'dbar',\n",
              " 'geospatial_vertical_resolution': '1 dbar',\n",
              " 'pi_email': 'elizabeth.jones@hi.no',\n",
              " 'pi_institution': 'Institute of Marine Research',\n",
              " 'station_name': 'P1 (NLEG01)',\n",
              " '_NCProperties': 'version=2,netcdf=4.6.3,hdf5=1.10.5',\n",
              " 'date_created': '2022-08-08T12:44:34Z',\n",
              " 'doi': '10.21335/NMDC-2085836005-P1_NLEG01-1',\n",
              " 'title': 'CTD_station_P1_NLEG01-1_-_Nansen_Legacy_Cruise_-_2021_Joint_Cruise_2-1',\n",
              " 'metadata_link': 'https://doi.org/10.21335/NMDC-2085836005-P1_NLEG01-1'}"
            ]
          },
          "metadata": {},
          "execution_count": 5
        }
      ]
    },
    {
      "cell_type": "code",
      "source": [
        "# Display Attributes\n",
        "for attribute, value in xrds.attrs.items():\n",
        "    print(f\"{attribute}: {value}\")"
      ],
      "metadata": {
        "colab": {
          "base_uri": "https://localhost:8080/"
        },
        "id": "KmSESz9ZXD_L",
        "outputId": "7fa0f2f7-9c29-47b8-9f1b-04fccccf35c2"
      },
      "execution_count": 6,
      "outputs": [
        {
          "output_type": "stream",
          "name": "stdout",
          "text": [
            "qc_manual: Recommendations for in-situ data Near Real Time Quality Control https://doi.org/10.13155/36230\n",
            "contact: datahjelp@hi.no\n",
            "distribution_statement: These data are public and free of charge. User assumes all risk for use of data. User must display citation in any publication or product using data. User must contact PI prior to any commercial use of data.\n",
            "naming_authority: no.unis\n",
            "license: https://creativecommons.org/licenses/by/4.0/ https://creativecommons.org/licenses/by/4.0/\n",
            "data_assembly_center: IMR\n",
            "update_interval: void\n",
            "area: Arctic Ocean\n",
            "author: \n",
            "Conventions: CF-1.8, ACDD-1.3, OceanSITES Manual 1.4\n",
            "data_mode: M\n",
            "comment: Descending CTD profile\n",
            "history: Created at 2022-08-08T12:43:51Z using the xarray library in Python\n",
            "netcdf_version: netCDF-4 classic model\n",
            "quality_index: A\n",
            "quality_control_indicator: 0\n",
            "publisher_name: Elisabeth Jones\n",
            "publisher_email: datahjelp@imr.no\n",
            "wmo_platform_code: \n",
            "ices_platform_code: \n",
            "site_code: \n",
            "bottom_depth: \n",
            "wmo_inst_type: \n",
            "geospatial_vertical_positive: down\n",
            "platform_code: 58US\n",
            "platform_name: Kronprins Haakon\n",
            "source: research vessel\n",
            "institution_country: Norway\n",
            "source_platform_category_code: 31\n",
            "data_type: OceanSITES vertical profile\n",
            "cdm_data_type: PROFILE\n",
            "instrument: CTD Seabird\n",
            "keywords: EARTH SCIENCE > OCEANS > OCEAN OPTICS > FLUORESCENCE, EARTH SCIENCE > OCEANS > SALINITY/DENSITY > DENSITY, EARTH SCIENCE > OCEANS > SALINITY/DENSITY > OCEAN SALINITY, EARTH SCIENCE > OCEANS > OCEAN ACOUSTICS > ACOUSTIC VELOCITY, EARTH SCIENCE > OCEANS > OCEAN TEMPERATURE > WATER TEMPERATURE, EARTH SCIENCE > OCEANS > SALINITY/DENSITY > CONDUCTIVITY\n",
            "keywords_vocabulary: GCMD:GCMD Keywords\n",
            "id: NMDC_Nansen-Legacy_PR_CT_58US_2021708_P1_(NLEG01)\n",
            "time_coverage_start: 2021-07-14T08:14:43Z\n",
            "time_coverage_end: 2021-07-14T08:14:43Z\n",
            "date_update: 2022-08-08T12:43:51Z\n",
            "geospatial_lat_min: 76.0\n",
            "geospatial_lat_max: 76.0\n",
            "geospatial_lon_min: 31.21969985961914\n",
            "geospatial_lon_max: 31.21969985961914\n",
            "geospatial_vertical_min: 1.0\n",
            "geospatial_vertical_max: 321.0\n",
            "citation: These data were collected and made freely available by the Nansen Legacy project and the programs that contribute to it.\n",
            "project: The Nansen Legacy Project (RCN # 276730)\n",
            "references: https://doi.org/10.21335/NMDC-2085836005\n",
            "featureType: Profile\n",
            "summary: The Joint Cruise 2-1 addressed objectives of the work packages Physical drivers (Research Foci 1), Human impact (Research Foci 2) and The living Barents Sea (Research Foci 3) along the Nansen Legacy transect in open water and within the sea ice. The cruise focussed on comparing the state of the physical, chemical and biological conditions in the southern and northern parts of the study area. These data are created from the CTD data published by NMDC for the whole cruise (https://doi.org/10.21335/NMDC-2085836005). The values have not be changed.\n",
            "pi_name: Elizabeth Jones\n",
            "institution: Institute of Marine Research\n",
            "institution_edmo_code: 1351\n",
            "institution_references: https://www.hi.no/hi\n",
            "creator_institution: Institute of Marine Research\n",
            "creator_name: Elisabeth Jones\n",
            "creator_type: person\n",
            "creator_email: datahjelp@imr.no\n",
            "creator_url: https://www.hi.no/hi\n",
            "publisher: The Norwegian Marine Data Centre (NMD)\n",
            "publisher_url: https://www.hi.no/hi\n",
            "acknowledgement: The Nansen Legacy project is funded by the Research Council of Norway (RCN # 276730). These data are created from the CTD data published by NMDC for the whole cruise (10.21335/NMDC-2085836005). The values have not be changed. For information about this process, please contact Luke Marsden at data.nleg@unis.no\n",
            "cruiseNumber: 2021708\n",
            "cruiseName: 2021 Joint Cruise 2-1\n",
            "geospatial_vertical_units: dbar\n",
            "geospatial_vertical_resolution: 1 dbar\n",
            "pi_email: elizabeth.jones@hi.no\n",
            "pi_institution: Institute of Marine Research\n",
            "station_name: P1 (NLEG01)\n",
            "_NCProperties: version=2,netcdf=4.6.3,hdf5=1.10.5\n",
            "date_created: 2022-08-08T12:44:34Z\n",
            "doi: 10.21335/NMDC-2085836005-P1_NLEG01-1\n",
            "title: CTD_station_P1_NLEG01-1_-_Nansen_Legacy_Cruise_-_2021_Joint_Cruise_2-1\n",
            "metadata_link: https://doi.org/10.21335/NMDC-2085836005-P1_NLEG01-1\n"
          ]
        }
      ]
    },
    {
      "cell_type": "code",
      "source": [
        "# Printing Particular Attribute\n",
        "\n",
        "print(xrds.attrs['Conventions'])"
      ],
      "metadata": {
        "colab": {
          "base_uri": "https://localhost:8080/"
        },
        "id": "pSLTX2v0XRlx",
        "outputId": "a6af56b2-9f73-45ff-9cfe-8b7b54c9bb88"
      },
      "execution_count": 7,
      "outputs": [
        {
          "output_type": "stream",
          "name": "stdout",
          "text": [
            "CF-1.8, ACDD-1.3, OceanSITES Manual 1.4\n"
          ]
        }
      ]
    },
    {
      "cell_type": "markdown",
      "source": [
        "Attribute Conventions for Data Discovery\n",
        "\n",
        "https://wiki.esipfed.org/Attribute_Convention_for_Data_Discovery_1-3"
      ],
      "metadata": {
        "id": "thnZRnSQaOet"
      }
    },
    {
      "cell_type": "code",
      "source": [
        "# dimensions\n",
        "dimensions = xrds.dims\n",
        "print(dimensions)\n",
        "print(dimensions['PRES'])"
      ],
      "metadata": {
        "colab": {
          "base_uri": "https://localhost:8080/"
        },
        "id": "738EEQ8hZ2UE",
        "outputId": "306937b8-1941-4422-dfbf-499841daafc9"
      },
      "execution_count": 10,
      "outputs": [
        {
          "output_type": "stream",
          "name": "stdout",
          "text": [
            "FrozenMappingWarningOnValuesAccess({'PRES': 320})\n",
            "320\n"
          ]
        },
        {
          "output_type": "stream",
          "name": "stderr",
          "text": [
            "<ipython-input-10-1401f8dd02a2>:4: FutureWarning: The return type of `Dataset.dims` will be changed to return a set of dimension names in future, in order to be more consistent with `DataArray.dims`. To access a mapping from dimension names to lengths, please use `Dataset.sizes`.\n",
            "  print(dimensions['PRES'])\n"
          ]
        }
      ]
    },
    {
      "cell_type": "code",
      "source": [
        "# Accessing Coordinate Variable\n",
        "\n",
        "coordinate_variables = xrds.coords\n",
        "print(coordinate_variables)\n"
      ],
      "metadata": {
        "colab": {
          "base_uri": "https://localhost:8080/"
        },
        "id": "T0D-28Wybo4K",
        "outputId": "3320b1de-1bac-44da-a1c1-276878c66e27"
      },
      "execution_count": 11,
      "outputs": [
        {
          "output_type": "stream",
          "name": "stdout",
          "text": [
            "Coordinates:\n",
            "  * PRES     (PRES) float32 1kB 1.0 2.0 3.0 4.0 5.0 ... 317.0 318.0 319.0 320.0\n"
          ]
        }
      ]
    },
    {
      "cell_type": "code",
      "source": [
        "# Accessing Data Variables\n",
        "\n",
        "data_variables = xrds.data_vars\n",
        "print(data_variables)"
      ],
      "metadata": {
        "colab": {
          "base_uri": "https://localhost:8080/"
        },
        "id": "17N67jwKb1gc",
        "outputId": "30e53b27-ebb5-4e04-a77f-38e2a9e43cb4"
      },
      "execution_count": 12,
      "outputs": [
        {
          "output_type": "stream",
          "name": "stdout",
          "text": [
            "Data variables:\n",
            "    PRES_QC        (PRES) float32 1kB ...\n",
            "    TEMP           (PRES) float32 1kB ...\n",
            "    PSAL           (PRES) float32 1kB ...\n",
            "    FLU2           (PRES) float32 1kB ...\n",
            "    CNDC           (PRES) float32 1kB ...\n",
            "    DENS           (PRES) float32 1kB ...\n",
            "    SVEL           (PRES) float32 1kB ...\n",
            "    CCOMD003       (PRES) float32 1kB ...\n",
            "    DOX1-1         (PRES) float32 1kB ...\n",
            "    DOX2-1         (PRES) float32 1kB ...\n",
            "    CNDC-2         (PRES) float32 1kB ...\n",
            "    OXYOCPVL-1     (PRES) float32 1kB ...\n",
            "    SPAR           (PRES) float32 1kB ...\n",
            "    PAR            (PRES) float32 1kB ...\n",
            "    PSAL-2         (PRES) float32 1kB ...\n",
            "    TEMP-2         (PRES) float32 1kB ...\n",
            "    ATTNZS01       (PRES) float32 1kB ...\n",
            "    TEMP_QC        (PRES) float32 1kB ...\n",
            "    PSAL_QC        (PRES) float32 1kB ...\n",
            "    FLU2_QC        (PRES) float32 1kB ...\n",
            "    CNDC_QC        (PRES) float32 1kB ...\n",
            "    DENS_QC        (PRES) float32 1kB ...\n",
            "    SVEL_QC        (PRES) float32 1kB ...\n",
            "    CCOMD003_QC    (PRES) float32 1kB ...\n",
            "    DOX1-1_QC      (PRES) float32 1kB ...\n",
            "    DOX2-1_QC      (PRES) float32 1kB ...\n",
            "    CNDC-2_QC      (PRES) float32 1kB ...\n",
            "    OXYOCPVL-1_QC  (PRES) float32 1kB ...\n",
            "    SPAR_QC        (PRES) float32 1kB ...\n",
            "    PAR_QC         (PRES) float32 1kB ...\n",
            "    PSAL-2_QC      (PRES) float32 1kB ...\n",
            "    TEMP-2_QC      (PRES) float32 1kB ...\n",
            "    ATTNZS01_QC    (PRES) float32 1kB ...\n"
          ]
        }
      ]
    },
    {
      "cell_type": "code",
      "source": [
        "# eg. accessing temperature data\n",
        "\n",
        "temperature = xrds.data_vars['TEMP'].values  #numpy array\n",
        "print(temperature)"
      ],
      "metadata": {
        "colab": {
          "base_uri": "https://localhost:8080/"
        },
        "id": "UBVmmlpmb62I",
        "outputId": "7ed57977-4f9a-44c4-d891-7e9e4ca06e7b"
      },
      "execution_count": 14,
      "outputs": [
        {
          "output_type": "stream",
          "name": "stdout",
          "text": [
            "[3.735 3.738 3.739 3.741 3.736 3.737 3.736 3.742 3.736 3.738 3.783 3.833\n",
            " 3.838 3.837 3.83  3.806 3.792 3.79  3.814 3.846 3.858 3.833 3.815 3.817\n",
            " 3.814 3.812 3.792 3.709 3.704 3.642 3.582 3.546 3.512 3.484 3.368 3.297\n",
            " 3.165 3.106 3.094 3.094 3.102 3.079 3.094 3.076 3.035 3.009 2.992 2.981\n",
            " 2.954 2.933 2.903 2.874 2.85  2.824 2.801 2.787 2.764 2.713 2.711 2.705\n",
            " 2.701 2.696 2.682 2.665 2.651 2.647 2.642 2.635 2.624 2.588 2.604 2.608\n",
            " 2.593 2.507 2.472 2.468 2.46  2.453 2.441 2.43  2.431 2.43  2.431 2.433\n",
            " 2.43  2.417 2.394 2.382 2.361 2.335 2.32  2.303 2.275 2.267 2.263 2.277\n",
            " 2.27  2.265 2.262 2.256 2.241 2.216 2.201 2.191 2.176 2.135 2.11  2.091\n",
            " 2.071 2.064 2.103 2.106 2.099 2.095 2.092 2.088 2.082 2.085 2.093 2.09\n",
            " 2.089 2.085 2.054 2.022 2.019 2.021 2.026 2.027 2.036 2.041 2.06  2.082\n",
            " 2.084 2.087 2.093 2.097 2.099 2.098 2.1   2.101 2.099 2.095 2.094 2.094\n",
            " 2.102 2.101 2.095 2.082 2.078 2.076 2.076 2.072 2.066 2.064 2.063 2.065\n",
            " 2.065 2.063 2.058 2.041 2.032 2.028 2.027 2.026 2.022 2.013 2.01  2.009\n",
            " 2.007 2.002 1.998 1.994 1.99  1.986 1.979 1.974 1.971 1.968 1.966 1.962\n",
            " 1.957 1.945 1.933 1.924 1.919 1.916 1.907 1.9   1.893 1.887 1.883 1.881\n",
            " 1.879 1.876 1.873 1.868 1.866 1.863 1.858 1.853 1.851 1.848 1.847 1.847\n",
            " 1.846 1.845 1.845 1.844 1.844 1.843 1.843 1.842 1.842 1.84  1.837 1.834\n",
            " 1.832 1.83  1.823 1.82  1.818 1.815 1.808 1.804 1.798 1.794 1.792 1.79\n",
            " 1.789 1.788 1.787 1.783 1.779 1.776 1.772 1.77  1.767 1.763 1.761 1.757\n",
            " 1.751 1.744 1.74  1.739 1.736 1.731 1.727 1.723 1.72  1.715 1.702 1.693\n",
            " 1.694 1.693 1.691 1.685 1.673 1.667 1.663 1.662 1.662 1.661 1.657 1.648\n",
            " 1.644 1.642 1.628 1.622 1.619 1.613 1.61  1.597 1.59  1.587 1.585 1.581\n",
            " 1.576 1.567 1.564 1.558 1.54  1.531 1.525 1.523 1.516 1.512 1.507 1.504\n",
            " 1.503 1.496 1.469 1.442 1.431 1.408 1.385 1.361 1.332 1.319 1.303 1.297\n",
            " 1.295 1.29  1.286 1.287 1.286 1.286 1.286 1.287 1.287 1.286 1.287 1.287\n",
            " 1.288 1.288 1.287 1.287 1.287 1.287 1.287 1.287]\n"
          ]
        }
      ]
    },
    {
      "cell_type": "markdown",
      "source": [
        "You can explore the standard name here by searching: https://cfconventions.org/Data/cf-standard-names/current/build/cf-standard-name-table.html"
      ],
      "metadata": {
        "id": "5ipu2aGsdVrF"
      }
    },
    {
      "cell_type": "code",
      "source": [
        "# Accessing Variable Attributes\n",
        "temp_var_attributes = xrds.data_vars['TEMP'].attrs\n",
        "print(temp_var_attributes)\n",
        "\n",
        "# Accessing value of the standard name variable attribute\n",
        "temp_var_attributes = xrds.data_vars['TEMP'].attrs['standard_name']\n",
        "print(temp_var_attributes)"
      ],
      "metadata": {
        "colab": {
          "base_uri": "https://localhost:8080/"
        },
        "id": "3EPFkAZqcz76",
        "outputId": "6cfec116-e591-481f-f84e-eb6ed57644f4"
      },
      "execution_count": 18,
      "outputs": [
        {
          "output_type": "stream",
          "name": "stdout",
          "text": [
            "{'standard_name': 'sea_water_temperature', 'long_name': 'Sea temperature', 'units': 'degrees_C', 'valid_min': -2.5, 'valid_max': 40.0, 'ancillary_variables': 'TEMP_QC ', 'data_mode': 'D', 'coverage_content_type': 'physicalMeasurement'}\n",
            "sea_water_temperature\n"
          ]
        }
      ]
    }
  ]
}